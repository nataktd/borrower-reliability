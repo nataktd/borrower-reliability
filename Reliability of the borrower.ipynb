{
 "cells": [
  {
   "cell_type": "markdown",
   "id": "38b31fe7",
   "metadata": {
    "deletable": false,
    "editable": false,
    "id": "c81daeeb"
   },
   "source": [
    "# Исследование надежности заемщиков\n"
   ]
  },
  {
   "cell_type": "markdown",
   "id": "095e4940",
   "metadata": {
    "deletable": false,
    "editable": false,
    "id": "827c20bf"
   },
   "source": [
    "Во второй части проекта вы выполните шаги 3 и 4. Их вручную проверит ревьюер.\n",
    "Чтобы вам не пришлось писать код заново для шагов 1 и 2, мы добавили авторские решения в ячейки с кодом. \n",
    "\n"
   ]
  },
  {
   "cell_type": "markdown",
   "id": "e67a7bfb",
   "metadata": {
    "deletable": false,
    "editable": false,
    "id": "744d7639"
   },
   "source": [
    "## Откройте таблицу и изучите общую информацию о данных"
   ]
  },
  {
   "cell_type": "markdown",
   "id": "0b7c1304",
   "metadata": {
    "deletable": false,
    "editable": false,
    "id": "e7a14c31"
   },
   "source": [
    "**Задание 1. Импортируйте библиотеку pandas. Считайте данные из csv-файла в датафрейм и сохраните в переменную `data`. Путь к файлу:**\n",
    "\n",
    "`/datasets/data.csv`"
   ]
  },
  {
   "cell_type": "code",
   "execution_count": 1,
   "id": "a456f4e8",
   "metadata": {
    "deletable": false,
    "id": "7bcf75c9"
   },
   "outputs": [],
   "source": [
    "import pandas as pd\n",
    "\n",
    "try:\n",
    "    data = pd.read_csv('/datasets/data.csv')\n",
    "except:\n",
    "    data = pd.read_csv('https://code.s3.yandex.net/datasets/data.csv')"
   ]
  },
  {
   "cell_type": "markdown",
   "id": "17a52911",
   "metadata": {
    "deletable": false,
    "editable": false,
    "id": "b8038fe3"
   },
   "source": [
    "**Задание 2. Выведите первые 20 строчек датафрейма `data` на экран.**"
   ]
  },
  {
   "cell_type": "code",
   "execution_count": 2,
   "id": "33cab125",
   "metadata": {
    "deletable": false,
    "id": "2a7cab99",
    "outputId": "1a8f3ef2-d323-4ec2-ddf7-89670b5944c4"
   },
   "outputs": [
    {
     "data": {
      "text/html": [
       "<div>\n",
       "<style scoped>\n",
       "    .dataframe tbody tr th:only-of-type {\n",
       "        vertical-align: middle;\n",
       "    }\n",
       "\n",
       "    .dataframe tbody tr th {\n",
       "        vertical-align: top;\n",
       "    }\n",
       "\n",
       "    .dataframe thead th {\n",
       "        text-align: right;\n",
       "    }\n",
       "</style>\n",
       "<table border=\"1\" class=\"dataframe\">\n",
       "  <thead>\n",
       "    <tr style=\"text-align: right;\">\n",
       "      <th></th>\n",
       "      <th>children</th>\n",
       "      <th>days_employed</th>\n",
       "      <th>dob_years</th>\n",
       "      <th>education</th>\n",
       "      <th>education_id</th>\n",
       "      <th>family_status</th>\n",
       "      <th>family_status_id</th>\n",
       "      <th>gender</th>\n",
       "      <th>income_type</th>\n",
       "      <th>debt</th>\n",
       "      <th>total_income</th>\n",
       "      <th>purpose</th>\n",
       "    </tr>\n",
       "  </thead>\n",
       "  <tbody>\n",
       "    <tr>\n",
       "      <th>0</th>\n",
       "      <td>1</td>\n",
       "      <td>-8437.673028</td>\n",
       "      <td>42</td>\n",
       "      <td>высшее</td>\n",
       "      <td>0</td>\n",
       "      <td>женат / замужем</td>\n",
       "      <td>0</td>\n",
       "      <td>F</td>\n",
       "      <td>сотрудник</td>\n",
       "      <td>0</td>\n",
       "      <td>253875.639453</td>\n",
       "      <td>покупка жилья</td>\n",
       "    </tr>\n",
       "    <tr>\n",
       "      <th>1</th>\n",
       "      <td>1</td>\n",
       "      <td>-4024.803754</td>\n",
       "      <td>36</td>\n",
       "      <td>среднее</td>\n",
       "      <td>1</td>\n",
       "      <td>женат / замужем</td>\n",
       "      <td>0</td>\n",
       "      <td>F</td>\n",
       "      <td>сотрудник</td>\n",
       "      <td>0</td>\n",
       "      <td>112080.014102</td>\n",
       "      <td>приобретение автомобиля</td>\n",
       "    </tr>\n",
       "    <tr>\n",
       "      <th>2</th>\n",
       "      <td>0</td>\n",
       "      <td>-5623.422610</td>\n",
       "      <td>33</td>\n",
       "      <td>Среднее</td>\n",
       "      <td>1</td>\n",
       "      <td>женат / замужем</td>\n",
       "      <td>0</td>\n",
       "      <td>M</td>\n",
       "      <td>сотрудник</td>\n",
       "      <td>0</td>\n",
       "      <td>145885.952297</td>\n",
       "      <td>покупка жилья</td>\n",
       "    </tr>\n",
       "    <tr>\n",
       "      <th>3</th>\n",
       "      <td>3</td>\n",
       "      <td>-4124.747207</td>\n",
       "      <td>32</td>\n",
       "      <td>среднее</td>\n",
       "      <td>1</td>\n",
       "      <td>женат / замужем</td>\n",
       "      <td>0</td>\n",
       "      <td>M</td>\n",
       "      <td>сотрудник</td>\n",
       "      <td>0</td>\n",
       "      <td>267628.550329</td>\n",
       "      <td>дополнительное образование</td>\n",
       "    </tr>\n",
       "    <tr>\n",
       "      <th>4</th>\n",
       "      <td>0</td>\n",
       "      <td>340266.072047</td>\n",
       "      <td>53</td>\n",
       "      <td>среднее</td>\n",
       "      <td>1</td>\n",
       "      <td>гражданский брак</td>\n",
       "      <td>1</td>\n",
       "      <td>F</td>\n",
       "      <td>пенсионер</td>\n",
       "      <td>0</td>\n",
       "      <td>158616.077870</td>\n",
       "      <td>сыграть свадьбу</td>\n",
       "    </tr>\n",
       "    <tr>\n",
       "      <th>5</th>\n",
       "      <td>0</td>\n",
       "      <td>-926.185831</td>\n",
       "      <td>27</td>\n",
       "      <td>высшее</td>\n",
       "      <td>0</td>\n",
       "      <td>гражданский брак</td>\n",
       "      <td>1</td>\n",
       "      <td>M</td>\n",
       "      <td>компаньон</td>\n",
       "      <td>0</td>\n",
       "      <td>255763.565419</td>\n",
       "      <td>покупка жилья</td>\n",
       "    </tr>\n",
       "    <tr>\n",
       "      <th>6</th>\n",
       "      <td>0</td>\n",
       "      <td>-2879.202052</td>\n",
       "      <td>43</td>\n",
       "      <td>высшее</td>\n",
       "      <td>0</td>\n",
       "      <td>женат / замужем</td>\n",
       "      <td>0</td>\n",
       "      <td>F</td>\n",
       "      <td>компаньон</td>\n",
       "      <td>0</td>\n",
       "      <td>240525.971920</td>\n",
       "      <td>операции с жильем</td>\n",
       "    </tr>\n",
       "    <tr>\n",
       "      <th>7</th>\n",
       "      <td>0</td>\n",
       "      <td>-152.779569</td>\n",
       "      <td>50</td>\n",
       "      <td>СРЕДНЕЕ</td>\n",
       "      <td>1</td>\n",
       "      <td>женат / замужем</td>\n",
       "      <td>0</td>\n",
       "      <td>M</td>\n",
       "      <td>сотрудник</td>\n",
       "      <td>0</td>\n",
       "      <td>135823.934197</td>\n",
       "      <td>образование</td>\n",
       "    </tr>\n",
       "    <tr>\n",
       "      <th>8</th>\n",
       "      <td>2</td>\n",
       "      <td>-6929.865299</td>\n",
       "      <td>35</td>\n",
       "      <td>ВЫСШЕЕ</td>\n",
       "      <td>0</td>\n",
       "      <td>гражданский брак</td>\n",
       "      <td>1</td>\n",
       "      <td>F</td>\n",
       "      <td>сотрудник</td>\n",
       "      <td>0</td>\n",
       "      <td>95856.832424</td>\n",
       "      <td>на проведение свадьбы</td>\n",
       "    </tr>\n",
       "    <tr>\n",
       "      <th>9</th>\n",
       "      <td>0</td>\n",
       "      <td>-2188.756445</td>\n",
       "      <td>41</td>\n",
       "      <td>среднее</td>\n",
       "      <td>1</td>\n",
       "      <td>женат / замужем</td>\n",
       "      <td>0</td>\n",
       "      <td>M</td>\n",
       "      <td>сотрудник</td>\n",
       "      <td>0</td>\n",
       "      <td>144425.938277</td>\n",
       "      <td>покупка жилья для семьи</td>\n",
       "    </tr>\n",
       "    <tr>\n",
       "      <th>10</th>\n",
       "      <td>2</td>\n",
       "      <td>-4171.483647</td>\n",
       "      <td>36</td>\n",
       "      <td>высшее</td>\n",
       "      <td>0</td>\n",
       "      <td>женат / замужем</td>\n",
       "      <td>0</td>\n",
       "      <td>M</td>\n",
       "      <td>компаньон</td>\n",
       "      <td>0</td>\n",
       "      <td>113943.491460</td>\n",
       "      <td>покупка недвижимости</td>\n",
       "    </tr>\n",
       "    <tr>\n",
       "      <th>11</th>\n",
       "      <td>0</td>\n",
       "      <td>-792.701887</td>\n",
       "      <td>40</td>\n",
       "      <td>среднее</td>\n",
       "      <td>1</td>\n",
       "      <td>женат / замужем</td>\n",
       "      <td>0</td>\n",
       "      <td>F</td>\n",
       "      <td>сотрудник</td>\n",
       "      <td>0</td>\n",
       "      <td>77069.234271</td>\n",
       "      <td>покупка коммерческой недвижимости</td>\n",
       "    </tr>\n",
       "    <tr>\n",
       "      <th>12</th>\n",
       "      <td>0</td>\n",
       "      <td>NaN</td>\n",
       "      <td>65</td>\n",
       "      <td>среднее</td>\n",
       "      <td>1</td>\n",
       "      <td>гражданский брак</td>\n",
       "      <td>1</td>\n",
       "      <td>M</td>\n",
       "      <td>пенсионер</td>\n",
       "      <td>0</td>\n",
       "      <td>NaN</td>\n",
       "      <td>сыграть свадьбу</td>\n",
       "    </tr>\n",
       "    <tr>\n",
       "      <th>13</th>\n",
       "      <td>0</td>\n",
       "      <td>-1846.641941</td>\n",
       "      <td>54</td>\n",
       "      <td>неоконченное высшее</td>\n",
       "      <td>2</td>\n",
       "      <td>женат / замужем</td>\n",
       "      <td>0</td>\n",
       "      <td>F</td>\n",
       "      <td>сотрудник</td>\n",
       "      <td>0</td>\n",
       "      <td>130458.228857</td>\n",
       "      <td>приобретение автомобиля</td>\n",
       "    </tr>\n",
       "    <tr>\n",
       "      <th>14</th>\n",
       "      <td>0</td>\n",
       "      <td>-1844.956182</td>\n",
       "      <td>56</td>\n",
       "      <td>высшее</td>\n",
       "      <td>0</td>\n",
       "      <td>гражданский брак</td>\n",
       "      <td>1</td>\n",
       "      <td>F</td>\n",
       "      <td>компаньон</td>\n",
       "      <td>1</td>\n",
       "      <td>165127.911772</td>\n",
       "      <td>покупка жилой недвижимости</td>\n",
       "    </tr>\n",
       "    <tr>\n",
       "      <th>15</th>\n",
       "      <td>1</td>\n",
       "      <td>-972.364419</td>\n",
       "      <td>26</td>\n",
       "      <td>среднее</td>\n",
       "      <td>1</td>\n",
       "      <td>женат / замужем</td>\n",
       "      <td>0</td>\n",
       "      <td>F</td>\n",
       "      <td>сотрудник</td>\n",
       "      <td>0</td>\n",
       "      <td>116820.904450</td>\n",
       "      <td>строительство собственной недвижимости</td>\n",
       "    </tr>\n",
       "    <tr>\n",
       "      <th>16</th>\n",
       "      <td>0</td>\n",
       "      <td>-1719.934226</td>\n",
       "      <td>35</td>\n",
       "      <td>среднее</td>\n",
       "      <td>1</td>\n",
       "      <td>женат / замужем</td>\n",
       "      <td>0</td>\n",
       "      <td>F</td>\n",
       "      <td>сотрудник</td>\n",
       "      <td>0</td>\n",
       "      <td>289202.704229</td>\n",
       "      <td>недвижимость</td>\n",
       "    </tr>\n",
       "    <tr>\n",
       "      <th>17</th>\n",
       "      <td>0</td>\n",
       "      <td>-2369.999720</td>\n",
       "      <td>33</td>\n",
       "      <td>высшее</td>\n",
       "      <td>0</td>\n",
       "      <td>гражданский брак</td>\n",
       "      <td>1</td>\n",
       "      <td>M</td>\n",
       "      <td>сотрудник</td>\n",
       "      <td>0</td>\n",
       "      <td>90410.586745</td>\n",
       "      <td>строительство недвижимости</td>\n",
       "    </tr>\n",
       "    <tr>\n",
       "      <th>18</th>\n",
       "      <td>0</td>\n",
       "      <td>400281.136913</td>\n",
       "      <td>53</td>\n",
       "      <td>среднее</td>\n",
       "      <td>1</td>\n",
       "      <td>вдовец / вдова</td>\n",
       "      <td>2</td>\n",
       "      <td>F</td>\n",
       "      <td>пенсионер</td>\n",
       "      <td>0</td>\n",
       "      <td>56823.777243</td>\n",
       "      <td>на покупку подержанного автомобиля</td>\n",
       "    </tr>\n",
       "    <tr>\n",
       "      <th>19</th>\n",
       "      <td>0</td>\n",
       "      <td>-10038.818549</td>\n",
       "      <td>48</td>\n",
       "      <td>СРЕДНЕЕ</td>\n",
       "      <td>1</td>\n",
       "      <td>в разводе</td>\n",
       "      <td>3</td>\n",
       "      <td>F</td>\n",
       "      <td>сотрудник</td>\n",
       "      <td>0</td>\n",
       "      <td>242831.107982</td>\n",
       "      <td>на покупку своего автомобиля</td>\n",
       "    </tr>\n",
       "  </tbody>\n",
       "</table>\n",
       "</div>"
      ],
      "text/plain": [
       "    children  days_employed  dob_years            education  education_id  \\\n",
       "0          1   -8437.673028         42               высшее             0   \n",
       "1          1   -4024.803754         36              среднее             1   \n",
       "2          0   -5623.422610         33              Среднее             1   \n",
       "3          3   -4124.747207         32              среднее             1   \n",
       "4          0  340266.072047         53              среднее             1   \n",
       "5          0    -926.185831         27               высшее             0   \n",
       "6          0   -2879.202052         43               высшее             0   \n",
       "7          0    -152.779569         50              СРЕДНЕЕ             1   \n",
       "8          2   -6929.865299         35               ВЫСШЕЕ             0   \n",
       "9          0   -2188.756445         41              среднее             1   \n",
       "10         2   -4171.483647         36               высшее             0   \n",
       "11         0    -792.701887         40              среднее             1   \n",
       "12         0            NaN         65              среднее             1   \n",
       "13         0   -1846.641941         54  неоконченное высшее             2   \n",
       "14         0   -1844.956182         56               высшее             0   \n",
       "15         1    -972.364419         26              среднее             1   \n",
       "16         0   -1719.934226         35              среднее             1   \n",
       "17         0   -2369.999720         33               высшее             0   \n",
       "18         0  400281.136913         53              среднее             1   \n",
       "19         0  -10038.818549         48              СРЕДНЕЕ             1   \n",
       "\n",
       "       family_status  family_status_id gender income_type  debt  \\\n",
       "0    женат / замужем                 0      F   сотрудник     0   \n",
       "1    женат / замужем                 0      F   сотрудник     0   \n",
       "2    женат / замужем                 0      M   сотрудник     0   \n",
       "3    женат / замужем                 0      M   сотрудник     0   \n",
       "4   гражданский брак                 1      F   пенсионер     0   \n",
       "5   гражданский брак                 1      M   компаньон     0   \n",
       "6    женат / замужем                 0      F   компаньон     0   \n",
       "7    женат / замужем                 0      M   сотрудник     0   \n",
       "8   гражданский брак                 1      F   сотрудник     0   \n",
       "9    женат / замужем                 0      M   сотрудник     0   \n",
       "10   женат / замужем                 0      M   компаньон     0   \n",
       "11   женат / замужем                 0      F   сотрудник     0   \n",
       "12  гражданский брак                 1      M   пенсионер     0   \n",
       "13   женат / замужем                 0      F   сотрудник     0   \n",
       "14  гражданский брак                 1      F   компаньон     1   \n",
       "15   женат / замужем                 0      F   сотрудник     0   \n",
       "16   женат / замужем                 0      F   сотрудник     0   \n",
       "17  гражданский брак                 1      M   сотрудник     0   \n",
       "18    вдовец / вдова                 2      F   пенсионер     0   \n",
       "19         в разводе                 3      F   сотрудник     0   \n",
       "\n",
       "     total_income                                 purpose  \n",
       "0   253875.639453                           покупка жилья  \n",
       "1   112080.014102                 приобретение автомобиля  \n",
       "2   145885.952297                           покупка жилья  \n",
       "3   267628.550329              дополнительное образование  \n",
       "4   158616.077870                         сыграть свадьбу  \n",
       "5   255763.565419                           покупка жилья  \n",
       "6   240525.971920                       операции с жильем  \n",
       "7   135823.934197                             образование  \n",
       "8    95856.832424                   на проведение свадьбы  \n",
       "9   144425.938277                 покупка жилья для семьи  \n",
       "10  113943.491460                    покупка недвижимости  \n",
       "11   77069.234271       покупка коммерческой недвижимости  \n",
       "12            NaN                         сыграть свадьбу  \n",
       "13  130458.228857                 приобретение автомобиля  \n",
       "14  165127.911772              покупка жилой недвижимости  \n",
       "15  116820.904450  строительство собственной недвижимости  \n",
       "16  289202.704229                            недвижимость  \n",
       "17   90410.586745              строительство недвижимости  \n",
       "18   56823.777243      на покупку подержанного автомобиля  \n",
       "19  242831.107982            на покупку своего автомобиля  "
      ]
     },
     "execution_count": 2,
     "metadata": {},
     "output_type": "execute_result"
    }
   ],
   "source": [
    "data.head(20)"
   ]
  },
  {
   "cell_type": "markdown",
   "id": "5a13bb90",
   "metadata": {
    "deletable": false,
    "editable": false,
    "id": "1c12e233"
   },
   "source": [
    "**Задание 3. Выведите основную информацию о датафрейме с помощью метода `info()`.**"
   ]
  },
  {
   "cell_type": "code",
   "execution_count": 3,
   "id": "d3de652e",
   "metadata": {
    "deletable": false,
    "id": "2b757bca",
    "outputId": "15376089-8dad-46c9-b520-c05248d43158"
   },
   "outputs": [
    {
     "name": "stdout",
     "output_type": "stream",
     "text": [
      "<class 'pandas.core.frame.DataFrame'>\n",
      "RangeIndex: 21525 entries, 0 to 21524\n",
      "Data columns (total 12 columns):\n",
      " #   Column            Non-Null Count  Dtype  \n",
      "---  ------            --------------  -----  \n",
      " 0   children          21525 non-null  int64  \n",
      " 1   days_employed     19351 non-null  float64\n",
      " 2   dob_years         21525 non-null  int64  \n",
      " 3   education         21525 non-null  object \n",
      " 4   education_id      21525 non-null  int64  \n",
      " 5   family_status     21525 non-null  object \n",
      " 6   family_status_id  21525 non-null  int64  \n",
      " 7   gender            21525 non-null  object \n",
      " 8   income_type       21525 non-null  object \n",
      " 9   debt              21525 non-null  int64  \n",
      " 10  total_income      19351 non-null  float64\n",
      " 11  purpose           21525 non-null  object \n",
      "dtypes: float64(2), int64(5), object(5)\n",
      "memory usage: 2.0+ MB\n"
     ]
    }
   ],
   "source": [
    "data.info()"
   ]
  },
  {
   "cell_type": "markdown",
   "id": "5999af8a",
   "metadata": {
    "deletable": false,
    "editable": false,
    "id": "333ec665"
   },
   "source": [
    "## Предобработка данных"
   ]
  },
  {
   "cell_type": "markdown",
   "id": "b7a3a2be",
   "metadata": {
    "deletable": false,
    "editable": false,
    "id": "02d92d53"
   },
   "source": [
    "### Удаление пропусков"
   ]
  },
  {
   "cell_type": "markdown",
   "id": "f801f5ec",
   "metadata": {
    "deletable": false,
    "editable": false,
    "id": "cd84967c"
   },
   "source": [
    "**Задание 4. Выведите количество пропущенных значений для каждого столбца. Используйте комбинацию двух методов.**"
   ]
  },
  {
   "cell_type": "code",
   "execution_count": 4,
   "id": "e4bab1e0",
   "metadata": {
    "deletable": false,
    "id": "7f9b2309",
    "outputId": "81f4d817-781c-465c-ed15-91ce4446810d"
   },
   "outputs": [
    {
     "data": {
      "text/plain": [
       "children               0\n",
       "days_employed       2174\n",
       "dob_years              0\n",
       "education              0\n",
       "education_id           0\n",
       "family_status          0\n",
       "family_status_id       0\n",
       "gender                 0\n",
       "income_type            0\n",
       "debt                   0\n",
       "total_income        2174\n",
       "purpose                0\n",
       "dtype: int64"
      ]
     },
     "execution_count": 4,
     "metadata": {},
     "output_type": "execute_result"
    }
   ],
   "source": [
    "data.isna().sum()"
   ]
  },
  {
   "cell_type": "markdown",
   "id": "b9052ad7",
   "metadata": {
    "deletable": false,
    "editable": false,
    "id": "db86e27b"
   },
   "source": [
    "**Задание 5. В двух столбцах есть пропущенные значения. Один из них — `days_employed`. Пропуски в этом столбце вы обработаете на следующем этапе. Другой столбец с пропущенными значениями — `total_income` — хранит данные о доходах. На сумму дохода сильнее всего влияет тип занятости, поэтому заполнить пропуски в этом столбце нужно медианным значением по каждому типу из столбца `income_type`. Например, у человека с типом занятости `сотрудник` пропуск в столбце `total_income` должен быть заполнен медианным доходом среди всех записей с тем же типом.**"
   ]
  },
  {
   "cell_type": "code",
   "execution_count": 5,
   "id": "ab155dc9",
   "metadata": {
    "deletable": false,
    "id": "42006a93"
   },
   "outputs": [],
   "source": [
    "for t in data['income_type'].unique():\n",
    "    data.loc[(data['income_type'] == t) & (data['total_income'].isna()), 'total_income'] = \\\n",
    "    data.loc[(data['income_type'] == t), 'total_income'].median()"
   ]
  },
  {
   "cell_type": "markdown",
   "id": "1fefbcea",
   "metadata": {
    "deletable": false,
    "editable": false,
    "id": "89da5ece"
   },
   "source": [
    "### Обработка аномальных значений"
   ]
  },
  {
   "cell_type": "markdown",
   "id": "0bd21e48",
   "metadata": {
    "deletable": false,
    "editable": false,
    "id": "57964554"
   },
   "source": [
    "**Задание 6. В данных могут встречаться артефакты (аномалии) — значения, которые не отражают действительность и появились по какой-то ошибке. таким артефактом будет отрицательное количество дней трудового стажа в столбце `days_employed`. Для реальных данных это нормально. Обработайте значения в этом столбце: замените все отрицательные значения положительными с помощью метода `abs()`.**"
   ]
  },
  {
   "cell_type": "code",
   "execution_count": 6,
   "id": "ca4b8a98",
   "metadata": {
    "deletable": false,
    "id": "f6f055bf"
   },
   "outputs": [],
   "source": [
    "data['days_employed'] = data['days_employed'].abs()"
   ]
  },
  {
   "cell_type": "markdown",
   "id": "c12ff66f",
   "metadata": {
    "deletable": false,
    "editable": false,
    "id": "6107dd2f"
   },
   "source": [
    "**Задание 7. Для каждого типа занятости выведите медианное значение трудового стажа `days_employed` в днях.**"
   ]
  },
  {
   "cell_type": "markdown",
   "id": "df173f11",
   "metadata": {},
   "source": [
    "<a id = 'mean'></a>"
   ]
  },
  {
   "cell_type": "markdown",
   "id": "0a815008",
   "metadata": {},
   "source": [
    "Рассчитаем медианное значение трудового стажа по типу занятости."
   ]
  },
  {
   "cell_type": "code",
   "execution_count": 7,
   "id": "babaebe3",
   "metadata": {
    "deletable": false,
    "id": "85a5faf6",
    "outputId": "801ef80e-522b-4668-f34e-565af7432bcf"
   },
   "outputs": [
    {
     "data": {
      "text/plain": [
       "income_type\n",
       "безработный        366413.652744\n",
       "в декрете            3296.759962\n",
       "госслужащий          2689.368353\n",
       "компаньон            1547.382223\n",
       "пенсионер          365213.306266\n",
       "предприниматель       520.848083\n",
       "сотрудник            1574.202821\n",
       "студент               578.751554\n",
       "Name: days_employed, dtype: float64"
      ]
     },
     "execution_count": 7,
     "metadata": {},
     "output_type": "execute_result"
    }
   ],
   "source": [
    "data.groupby('income_type')['days_employed'].agg('median')"
   ]
  },
  {
   "cell_type": "markdown",
   "id": "733a8265",
   "metadata": {
    "deletable": false,
    "editable": false,
    "id": "38d1a030"
   },
   "source": [
    "У двух типов (безработные и пенсионеры) получатся аномально большие значения. Исправить такие значения сложно, поэтому оставьте их как есть. Тем более этот столбец не понадобится вам для исследования."
   ]
  },
  {
   "cell_type": "markdown",
   "id": "ebbc8e8b",
   "metadata": {},
   "source": [
    "Рассчитаем среднеарифметическое значение трудового стажа по типу занятости."
   ]
  },
  {
   "cell_type": "code",
   "execution_count": 8,
   "id": "676372b4",
   "metadata": {},
   "outputs": [
    {
     "data": {
      "text/html": [
       "<div>\n",
       "<style scoped>\n",
       "    .dataframe tbody tr th:only-of-type {\n",
       "        vertical-align: middle;\n",
       "    }\n",
       "\n",
       "    .dataframe tbody tr th {\n",
       "        vertical-align: top;\n",
       "    }\n",
       "\n",
       "    .dataframe thead th {\n",
       "        text-align: right;\n",
       "    }\n",
       "</style>\n",
       "<table border=\"1\" class=\"dataframe\">\n",
       "  <thead>\n",
       "    <tr style=\"text-align: right;\">\n",
       "      <th></th>\n",
       "      <th>count</th>\n",
       "      <th>mean</th>\n",
       "      <th>std</th>\n",
       "      <th>min</th>\n",
       "      <th>25%</th>\n",
       "      <th>50%</th>\n",
       "      <th>75%</th>\n",
       "      <th>max</th>\n",
       "    </tr>\n",
       "    <tr>\n",
       "      <th>income_type</th>\n",
       "      <th></th>\n",
       "      <th></th>\n",
       "      <th></th>\n",
       "      <th></th>\n",
       "      <th></th>\n",
       "      <th></th>\n",
       "      <th></th>\n",
       "      <th></th>\n",
       "    </tr>\n",
       "  </thead>\n",
       "  <tbody>\n",
       "    <tr>\n",
       "      <th>безработный</th>\n",
       "      <td>2.0</td>\n",
       "      <td>366413.652744</td>\n",
       "      <td>40855.478519</td>\n",
       "      <td>337524.466835</td>\n",
       "      <td>351969.059790</td>\n",
       "      <td>366413.652744</td>\n",
       "      <td>380858.245699</td>\n",
       "      <td>395302.838654</td>\n",
       "    </tr>\n",
       "    <tr>\n",
       "      <th>в декрете</th>\n",
       "      <td>1.0</td>\n",
       "      <td>3296.759962</td>\n",
       "      <td>NaN</td>\n",
       "      <td>3296.759962</td>\n",
       "      <td>3296.759962</td>\n",
       "      <td>3296.759962</td>\n",
       "      <td>3296.759962</td>\n",
       "      <td>3296.759962</td>\n",
       "    </tr>\n",
       "    <tr>\n",
       "      <th>госслужащий</th>\n",
       "      <td>1312.0</td>\n",
       "      <td>3399.896902</td>\n",
       "      <td>2788.371363</td>\n",
       "      <td>39.954170</td>\n",
       "      <td>1257.171811</td>\n",
       "      <td>2689.368353</td>\n",
       "      <td>4759.399260</td>\n",
       "      <td>15193.032201</td>\n",
       "    </tr>\n",
       "    <tr>\n",
       "      <th>компаньон</th>\n",
       "      <td>4577.0</td>\n",
       "      <td>2111.524398</td>\n",
       "      <td>2048.448594</td>\n",
       "      <td>30.195337</td>\n",
       "      <td>685.687432</td>\n",
       "      <td>1547.382223</td>\n",
       "      <td>2876.648520</td>\n",
       "      <td>17615.563266</td>\n",
       "    </tr>\n",
       "    <tr>\n",
       "      <th>пенсионер</th>\n",
       "      <td>3443.0</td>\n",
       "      <td>365003.491245</td>\n",
       "      <td>21069.606065</td>\n",
       "      <td>328728.720605</td>\n",
       "      <td>346649.346146</td>\n",
       "      <td>365213.306266</td>\n",
       "      <td>383231.396871</td>\n",
       "      <td>401755.400475</td>\n",
       "    </tr>\n",
       "    <tr>\n",
       "      <th>предприниматель</th>\n",
       "      <td>1.0</td>\n",
       "      <td>520.848083</td>\n",
       "      <td>NaN</td>\n",
       "      <td>520.848083</td>\n",
       "      <td>520.848083</td>\n",
       "      <td>520.848083</td>\n",
       "      <td>520.848083</td>\n",
       "      <td>520.848083</td>\n",
       "    </tr>\n",
       "    <tr>\n",
       "      <th>сотрудник</th>\n",
       "      <td>10014.0</td>\n",
       "      <td>2326.499216</td>\n",
       "      <td>2307.924129</td>\n",
       "      <td>24.141633</td>\n",
       "      <td>746.027361</td>\n",
       "      <td>1574.202821</td>\n",
       "      <td>3108.123025</td>\n",
       "      <td>18388.949901</td>\n",
       "    </tr>\n",
       "    <tr>\n",
       "      <th>студент</th>\n",
       "      <td>1.0</td>\n",
       "      <td>578.751554</td>\n",
       "      <td>NaN</td>\n",
       "      <td>578.751554</td>\n",
       "      <td>578.751554</td>\n",
       "      <td>578.751554</td>\n",
       "      <td>578.751554</td>\n",
       "      <td>578.751554</td>\n",
       "    </tr>\n",
       "  </tbody>\n",
       "</table>\n",
       "</div>"
      ],
      "text/plain": [
       "                   count           mean           std            min  \\\n",
       "income_type                                                            \n",
       "безработный          2.0  366413.652744  40855.478519  337524.466835   \n",
       "в декрете            1.0    3296.759962           NaN    3296.759962   \n",
       "госслужащий       1312.0    3399.896902   2788.371363      39.954170   \n",
       "компаньон         4577.0    2111.524398   2048.448594      30.195337   \n",
       "пенсионер         3443.0  365003.491245  21069.606065  328728.720605   \n",
       "предприниматель      1.0     520.848083           NaN     520.848083   \n",
       "сотрудник        10014.0    2326.499216   2307.924129      24.141633   \n",
       "студент              1.0     578.751554           NaN     578.751554   \n",
       "\n",
       "                           25%            50%            75%            max  \n",
       "income_type                                                                  \n",
       "безработный      351969.059790  366413.652744  380858.245699  395302.838654  \n",
       "в декрете          3296.759962    3296.759962    3296.759962    3296.759962  \n",
       "госслужащий        1257.171811    2689.368353    4759.399260   15193.032201  \n",
       "компаньон           685.687432    1547.382223    2876.648520   17615.563266  \n",
       "пенсионер        346649.346146  365213.306266  383231.396871  401755.400475  \n",
       "предприниматель     520.848083     520.848083     520.848083     520.848083  \n",
       "сотрудник           746.027361    1574.202821    3108.123025   18388.949901  \n",
       "студент             578.751554     578.751554     578.751554     578.751554  "
      ]
     },
     "execution_count": 8,
     "metadata": {},
     "output_type": "execute_result"
    }
   ],
   "source": [
    "data.groupby('income_type')['days_employed'].describe()"
   ]
  },
  {
   "cell_type": "markdown",
   "id": "a6f529ac",
   "metadata": {},
   "source": [
    "У двух типов (безработные и пенсионеры) среднеарифметическое также как и у медианы получатся аномально большим.\n",
    "\n",
    "По трем группам (госслужащие, компаньены и сотрудники) среднеарифметическое и медиана не соврадают. Во всех случаях не совпадения медианное значение меньше чем среднеарифметическое. Миксимальные значения по этим группам сильно завышены, значит в выборке есть выбросы, они искажают сренеарифметическое."
   ]
  },
  {
   "cell_type": "markdown",
   "id": "f3c97f20",
   "metadata": {
    "deletable": false,
    "editable": false,
    "id": "d8a9f147"
   },
   "source": [
    "**Задание 8. Выведите перечень уникальных значений столбца `children`.**"
   ]
  },
  {
   "cell_type": "code",
   "execution_count": 9,
   "id": "3d2f40ef",
   "metadata": {
    "deletable": false,
    "id": "ef5056eb",
    "outputId": "6975b15c-7f95-4697-d16d-a0c79b657b03"
   },
   "outputs": [
    {
     "data": {
      "text/plain": [
       "array([ 1,  0,  3,  2, -1,  4, 20,  5])"
      ]
     },
     "execution_count": 9,
     "metadata": {},
     "output_type": "execute_result"
    }
   ],
   "source": [
    "data['children'].unique()"
   ]
  },
  {
   "cell_type": "markdown",
   "id": "0d90d749",
   "metadata": {
    "deletable": false,
    "editable": false,
    "id": "40b9ebf2"
   },
   "source": [
    "**Задание 9. В столбце `children` есть два аномальных значения. Удалите строки, в которых встречаются такие аномальные значения из датафрейма `data`.**"
   ]
  },
  {
   "cell_type": "code",
   "execution_count": 10,
   "id": "eb395a1f",
   "metadata": {
    "deletable": false,
    "id": "3ff9801d"
   },
   "outputs": [],
   "source": [
    "data = data[(data['children'] != -1) & (data['children'] != 20)]"
   ]
  },
  {
   "cell_type": "markdown",
   "id": "67eef34e",
   "metadata": {
    "deletable": false,
    "editable": false,
    "id": "bbc4d0ce"
   },
   "source": [
    "**Задание 10. Ещё раз выведите перечень уникальных значений столбца `children`, чтобы убедиться, что артефакты удалены.**"
   ]
  },
  {
   "cell_type": "code",
   "execution_count": 11,
   "id": "78f5fe0c",
   "metadata": {
    "deletable": false,
    "id": "ad4fa8b7",
    "outputId": "b2097101-d49d-44d9-901b-32a65c9463d1"
   },
   "outputs": [
    {
     "data": {
      "text/plain": [
       "array([1, 0, 3, 2, 4, 5])"
      ]
     },
     "execution_count": 11,
     "metadata": {},
     "output_type": "execute_result"
    }
   ],
   "source": [
    "data['children'].unique()"
   ]
  },
  {
   "cell_type": "markdown",
   "id": "c4fe8427",
   "metadata": {
    "deletable": false,
    "editable": false,
    "id": "75440b63"
   },
   "source": [
    "### Удаление пропусков (продолжение)"
   ]
  },
  {
   "cell_type": "markdown",
   "id": "f6063406",
   "metadata": {
    "deletable": false,
    "editable": false,
    "id": "f4ea573f"
   },
   "source": [
    "**Задание 11. Заполните пропуски в столбце `days_employed` медианными значениями по каждого типа занятости `income_type`.**"
   ]
  },
  {
   "cell_type": "code",
   "execution_count": 12,
   "id": "d8a039ad",
   "metadata": {
    "deletable": false,
    "id": "af6b1a7e"
   },
   "outputs": [],
   "source": [
    "for t in data['income_type'].unique():\n",
    "    data.loc[(data['income_type'] == t) & (data['days_employed'].isna()), 'days_employed'] = \\\n",
    "    data.loc[(data['income_type'] == t), 'days_employed'].median()"
   ]
  },
  {
   "cell_type": "markdown",
   "id": "b94b4cd9",
   "metadata": {
    "deletable": false,
    "editable": false,
    "id": "2753f40d"
   },
   "source": [
    "**Задание 12. Убедитесь, что все пропуски заполнены. Проверьте себя и ещё раз выведите количество пропущенных значений для каждого столбца с помощью двух методов.**"
   ]
  },
  {
   "cell_type": "code",
   "execution_count": 13,
   "id": "26510598",
   "metadata": {
    "deletable": false,
    "id": "55f78bc2",
    "outputId": "8da1e4e1-358e-4e87-98c9-f261bce0a7b2"
   },
   "outputs": [
    {
     "data": {
      "text/plain": [
       "children            0\n",
       "days_employed       0\n",
       "dob_years           0\n",
       "education           0\n",
       "education_id        0\n",
       "family_status       0\n",
       "family_status_id    0\n",
       "gender              0\n",
       "income_type         0\n",
       "debt                0\n",
       "total_income        0\n",
       "purpose             0\n",
       "dtype: int64"
      ]
     },
     "execution_count": 13,
     "metadata": {},
     "output_type": "execute_result"
    }
   ],
   "source": [
    "data.isna().sum()"
   ]
  },
  {
   "cell_type": "markdown",
   "id": "1a962684",
   "metadata": {
    "deletable": false,
    "editable": false,
    "id": "ddc81e43"
   },
   "source": [
    "### Изменение типов данных"
   ]
  },
  {
   "cell_type": "markdown",
   "id": "14b93fca",
   "metadata": {
    "deletable": false,
    "editable": false,
    "id": "42d19d24"
   },
   "source": [
    "**Задание 13. Замените вещественный тип данных в столбце `total_income` на целочисленный с помощью метода `astype()`.**"
   ]
  },
  {
   "cell_type": "code",
   "execution_count": 14,
   "id": "e3f6e6e7",
   "metadata": {
    "deletable": false,
    "id": "920b65ad"
   },
   "outputs": [],
   "source": [
    "data['total_income'] = data['total_income'].astype(int)"
   ]
  },
  {
   "cell_type": "markdown",
   "id": "59fe0df7",
   "metadata": {
    "deletable": false,
    "editable": false,
    "id": "80c420ba"
   },
   "source": [
    "### Обработка дубликатов"
   ]
  },
  {
   "cell_type": "markdown",
   "id": "d4c500ff",
   "metadata": {
    "deletable": false,
    "editable": false
   },
   "source": [
    "**Задание 14. Обработайте неявные дубликаты в столбце `education`. В этом столбце есть одни и те же значения, но записанные по-разному: с использованием заглавных и строчных букв. Приведите их к нижнему регистру. Проверьте остальные столбцы.**"
   ]
  },
  {
   "cell_type": "code",
   "execution_count": 15,
   "id": "2c585371",
   "metadata": {
    "deletable": false
   },
   "outputs": [],
   "source": [
    "data['education'] = data['education'].str.lower()"
   ]
  },
  {
   "cell_type": "markdown",
   "id": "de876dad",
   "metadata": {
    "deletable": false,
    "editable": false,
    "id": "dc587695"
   },
   "source": [
    "**Задание 15. Выведите на экран количество строк-дубликатов в данных. Если такие строки присутствуют, удалите их.**"
   ]
  },
  {
   "cell_type": "code",
   "execution_count": 16,
   "id": "d5e7fe6c",
   "metadata": {
    "deletable": false,
    "id": "3ee445e4",
    "outputId": "9684deba-1934-42d1-99e1-cda61740f822"
   },
   "outputs": [
    {
     "data": {
      "text/plain": [
       "71"
      ]
     },
     "execution_count": 16,
     "metadata": {},
     "output_type": "execute_result"
    }
   ],
   "source": [
    "data.duplicated().sum()"
   ]
  },
  {
   "cell_type": "code",
   "execution_count": 17,
   "id": "f245eddd",
   "metadata": {
    "deletable": false,
    "id": "8575fe05"
   },
   "outputs": [],
   "source": [
    "data = data.drop_duplicates()"
   ]
  },
  {
   "cell_type": "markdown",
   "id": "766b4d6e",
   "metadata": {
    "deletable": false,
    "editable": false,
    "id": "9904cf55"
   },
   "source": [
    "### Категоризация данных"
   ]
  },
  {
   "cell_type": "markdown",
   "id": "c5c3dc59",
   "metadata": {
    "deletable": false,
    "editable": false,
    "id": "72fcc8a2"
   },
   "source": [
    "**Задание 16. На основании диапазонов, указанных ниже, создайте в датафрейме `data` столбец `total_income_category` с категориями:**\n",
    "\n",
    "- 0–30000 — `'E'`;\n",
    "- 30001–50000 — `'D'`;\n",
    "- 50001–200000 — `'C'`;\n",
    "- 200001–1000000 — `'B'`;\n",
    "- 1000001 и выше — `'A'`.\n",
    "\n",
    "\n",
    "**Например, кредитополучателю с доходом 25000 нужно назначить категорию `'E'`, а клиенту, получающему 235000, — `'B'`. Используйте собственную функцию с именем `categorize_income()` и метод `apply()`.**"
   ]
  },
  {
   "cell_type": "code",
   "execution_count": 18,
   "id": "c8eeed43",
   "metadata": {
    "deletable": false,
    "id": "e1771346"
   },
   "outputs": [],
   "source": [
    "def categorize_income(income):\n",
    "    try:\n",
    "        if 0 <= income <= 30000:\n",
    "            return 'E'\n",
    "        elif 30001 <= income <= 50000:\n",
    "            return 'D'\n",
    "        elif 50001 <= income <= 200000:\n",
    "            return 'C'\n",
    "        elif 200001 <= income <= 1000000:\n",
    "            return 'B'\n",
    "        elif income >= 1000001:\n",
    "            return 'A'\n",
    "    except:\n",
    "        pass"
   ]
  },
  {
   "cell_type": "code",
   "execution_count": 19,
   "id": "93d3d90a",
   "metadata": {
    "deletable": false,
    "id": "d5f3586d"
   },
   "outputs": [],
   "source": [
    "data['total_income_category'] = data['total_income'].apply(categorize_income)"
   ]
  },
  {
   "cell_type": "markdown",
   "id": "891dfadf",
   "metadata": {
    "deletable": false,
    "editable": false,
    "id": "dde49b5c"
   },
   "source": [
    "**Задание 17. Выведите на экран перечень уникальных целей взятия кредита из столбца `purpose`.**"
   ]
  },
  {
   "cell_type": "code",
   "execution_count": 20,
   "id": "9f0907af",
   "metadata": {
    "deletable": false,
    "id": "f67ce9b3",
    "outputId": "673c12d9-7d7e-4ae0-9812-c622c89dd244"
   },
   "outputs": [
    {
     "data": {
      "text/plain": [
       "array(['покупка жилья', 'приобретение автомобиля',\n",
       "       'дополнительное образование', 'сыграть свадьбу',\n",
       "       'операции с жильем', 'образование', 'на проведение свадьбы',\n",
       "       'покупка жилья для семьи', 'покупка недвижимости',\n",
       "       'покупка коммерческой недвижимости', 'покупка жилой недвижимости',\n",
       "       'строительство собственной недвижимости', 'недвижимость',\n",
       "       'строительство недвижимости', 'на покупку подержанного автомобиля',\n",
       "       'на покупку своего автомобиля',\n",
       "       'операции с коммерческой недвижимостью',\n",
       "       'строительство жилой недвижимости', 'жилье',\n",
       "       'операции со своей недвижимостью', 'автомобили',\n",
       "       'заняться образованием', 'сделка с подержанным автомобилем',\n",
       "       'получение образования', 'автомобиль', 'свадьба',\n",
       "       'получение дополнительного образования', 'покупка своего жилья',\n",
       "       'операции с недвижимостью', 'получение высшего образования',\n",
       "       'свой автомобиль', 'сделка с автомобилем',\n",
       "       'профильное образование', 'высшее образование',\n",
       "       'покупка жилья для сдачи', 'на покупку автомобиля', 'ремонт жилью',\n",
       "       'заняться высшим образованием'], dtype=object)"
      ]
     },
     "execution_count": 20,
     "metadata": {},
     "output_type": "execute_result"
    }
   ],
   "source": [
    "data['purpose'].unique()"
   ]
  },
  {
   "cell_type": "markdown",
   "id": "ae8cd596",
   "metadata": {
    "deletable": false,
    "editable": false,
    "id": "85d0aef0"
   },
   "source": [
    "**Задание 18. Создайте функцию, которая на основании данных из столбца `purpose` сформирует новый столбец `purpose_category`, в который войдут следующие категории:**\n",
    "\n",
    "- `'операции с автомобилем'`,\n",
    "- `'операции с недвижимостью'`,\n",
    "- `'проведение свадьбы'`,\n",
    "- `'получение образования'`.\n",
    "\n",
    "**Например, если в столбце `purpose` находится подстрока `'на покупку автомобиля'`, то в столбце `purpose_category` должна появиться строка `'операции с автомобилем'`.**\n",
    "\n",
    "**Используйте собственную функцию с именем `categorize_purpose()` и метод `apply()`. Изучите данные в столбце `purpose` и определите, какие подстроки помогут вам правильно определить категорию.**"
   ]
  },
  {
   "cell_type": "code",
   "execution_count": 21,
   "id": "c6073eb6",
   "metadata": {
    "deletable": false,
    "id": "e149fab4"
   },
   "outputs": [],
   "source": [
    "def categorize_purpose(row):\n",
    "    try:\n",
    "        if 'автом' in row:\n",
    "            return 'операции с автомобилем'\n",
    "        elif 'жил' in row or 'недвиж' in row:\n",
    "            return 'операции с недвижимостью'\n",
    "        elif 'свад' in row:\n",
    "            return 'проведение свадьбы'\n",
    "        elif 'образов' in row:\n",
    "            return 'получение образования'\n",
    "    except:\n",
    "        return 'нет категории'"
   ]
  },
  {
   "cell_type": "code",
   "execution_count": 22,
   "id": "6d1b9973",
   "metadata": {
    "deletable": false,
    "id": "bf36e69b"
   },
   "outputs": [],
   "source": [
    "data['purpose_category'] = data['purpose'].apply(categorize_purpose)"
   ]
  },
  {
   "cell_type": "markdown",
   "id": "63494704",
   "metadata": {
    "deletable": false,
    "editable": false,
    "id": "09b242bf"
   },
   "source": [
    "### Шаг 3. Исследуйте данные и ответьте на вопросы"
   ]
  },
  {
   "cell_type": "markdown",
   "id": "0cd6b331",
   "metadata": {},
   "source": [
    "Задача прогнозирования надежности заемщика представляет собой задачу классификации.\n",
    "\n",
    "Для того, чтобы от сортировать клиентов по риску невозврата (или просрочек) кредита, составим персональный рейтинг клиентов сформировав группы по столбцам `семейное положение`, `цель кредита`, `количество детей в семье`, определим по группам количество просроченных кредитов, найдем процент клиентов от текущей группы, которые имеют задолженность.\n",
    "\n",
    "Все категориальные данные рассматриваемых столбцов преобразуем в числовое значения, где каждому классу будет соответствовать единственное число - балл(рейтинг). Таким образом предложим банку свою балльную систему (рейтингов) на основании выдвинутых и подтвержденных гипотез.\n",
    " \n",
    "Выдвинем гипотезы, докажем или опровергнем их.\n",
    "\n",
    "Для исследования гипотез, будем использоваться  одни и те же шаги для анализа данных, поэтому объявим метод, который сформирует таблицу с данными для анализа. \n",
    "Метод будет принимать на вход датафрейм и столбец для анализа, результатом использования метода будет таблица с данными для анализа:\n",
    "- группы по анализируемому столбцу;\n",
    "- количество просроченных кредитов по группам;\n",
    "- количество всех клиентов по группам;\n",
    "- доля просроченных кредитов по группе от общего числа клиентов в группе (в %).\n"
   ]
  },
  {
   "cell_type": "code",
   "execution_count": 23,
   "id": "126ba0a6",
   "metadata": {},
   "outputs": [],
   "source": [
    "def category_calculation(row,column):\n",
    "    data = row.groupby(column).agg({'debt':'sum'})\n",
    "    data['count'] = row.groupby(column)['debt'].count()\n",
    "    data['part_debtors'] = data['debt'] / data['count'] * 100\n",
    "    return data"
   ]
  },
  {
   "cell_type": "markdown",
   "id": "b5cf30cc",
   "metadata": {},
   "source": [
    "<a id = 'children'></a>"
   ]
  },
  {
   "cell_type": "markdown",
   "id": "2f67e10a",
   "metadata": {
    "deletable": false,
    "editable": false,
    "id": "c5d66278"
   },
   "source": [
    "#### 3.1 Есть ли зависимость между количеством детей и возвратом кредита в срок?"
   ]
  },
  {
   "cell_type": "markdown",
   "id": "0fa385ae",
   "metadata": {},
   "source": [
    "Выдвинем гипотезу: дети — это плюс, но большое число иждивенцев может понизить рейтинг. Заемщику будет трудно платить по кредиту."
   ]
  },
  {
   "cell_type": "code",
   "execution_count": 24,
   "id": "6640bd6f",
   "metadata": {
    "deletable": false,
    "id": "2cacfc4a"
   },
   "outputs": [
    {
     "data": {
      "text/html": [
       "<div>\n",
       "<style scoped>\n",
       "    .dataframe tbody tr th:only-of-type {\n",
       "        vertical-align: middle;\n",
       "    }\n",
       "\n",
       "    .dataframe tbody tr th {\n",
       "        vertical-align: top;\n",
       "    }\n",
       "\n",
       "    .dataframe thead th {\n",
       "        text-align: right;\n",
       "    }\n",
       "</style>\n",
       "<table border=\"1\" class=\"dataframe\">\n",
       "  <thead>\n",
       "    <tr style=\"text-align: right;\">\n",
       "      <th></th>\n",
       "      <th>debt</th>\n",
       "      <th>count</th>\n",
       "      <th>part_debtors</th>\n",
       "    </tr>\n",
       "    <tr>\n",
       "      <th>children</th>\n",
       "      <th></th>\n",
       "      <th></th>\n",
       "      <th></th>\n",
       "    </tr>\n",
       "  </thead>\n",
       "  <tbody>\n",
       "    <tr>\n",
       "      <th>5</th>\n",
       "      <td>0</td>\n",
       "      <td>9</td>\n",
       "      <td>0.000000</td>\n",
       "    </tr>\n",
       "    <tr>\n",
       "      <th>0</th>\n",
       "      <td>1063</td>\n",
       "      <td>14091</td>\n",
       "      <td>7.543822</td>\n",
       "    </tr>\n",
       "    <tr>\n",
       "      <th>3</th>\n",
       "      <td>27</td>\n",
       "      <td>330</td>\n",
       "      <td>8.181818</td>\n",
       "    </tr>\n",
       "    <tr>\n",
       "      <th>1</th>\n",
       "      <td>444</td>\n",
       "      <td>4808</td>\n",
       "      <td>9.234609</td>\n",
       "    </tr>\n",
       "    <tr>\n",
       "      <th>2</th>\n",
       "      <td>194</td>\n",
       "      <td>2052</td>\n",
       "      <td>9.454191</td>\n",
       "    </tr>\n",
       "    <tr>\n",
       "      <th>4</th>\n",
       "      <td>4</td>\n",
       "      <td>41</td>\n",
       "      <td>9.756098</td>\n",
       "    </tr>\n",
       "  </tbody>\n",
       "</table>\n",
       "</div>"
      ],
      "text/plain": [
       "          debt  count  part_debtors\n",
       "children                           \n",
       "5            0      9      0.000000\n",
       "0         1063  14091      7.543822\n",
       "3           27    330      8.181818\n",
       "1          444   4808      9.234609\n",
       "2          194   2052      9.454191\n",
       "4            4     41      9.756098"
      ]
     },
     "execution_count": 24,
     "metadata": {},
     "output_type": "execute_result"
    }
   ],
   "source": [
    "data_children = category_calculation(data,'children') # вызовим метод category_calculation \n",
    "data_children.sort_values(by='part_debtors', ascending=True)"
   ]
  },
  {
   "cell_type": "markdown",
   "id": "da2c0ae9",
   "metadata": {},
   "source": [
    "Данные таблицы показывают, что клиенты без детей более ответственно относятся к выплате кредита в срок. Возможно это связано с тем, что нет расходов на еще одного члена семьи, а значит ежемесячно можно с аккумулировать больше средств, а так же, нет непредвиденных расходов, которые так характерны для семьи с детьми. То есть отсутствие детей не накладывает дополнительные ограничения на семью.\n",
    "\n",
    "На втором месте расположились клиенты с 3-я детьми, чем серьезно удивили. Предполагаю, что семьи с 3-я детьми оказались более ответственные, чем с 1 или 2 детьми. Кредит им получить тяжелее, чем семье с 1-2 детьми, поэтому нужно поддерживать хорошую кредитную история для будущих кредитов. Так же, по моему мнению, те, кто решился на 3 ребенка более реально оценивают свое финансовое положение.\n",
    "\n",
    "На 3 ,4 и 5 местах расположились семьи с 1-м, 2-я и 4-я детьми соответственно, они не так сильно придерживаются сроков выплат кредита. \n"
   ]
  },
  {
   "cell_type": "markdown",
   "id": "a884dbad",
   "metadata": {},
   "source": [
    "Рассчитаем долю каждой группы(в %)"
   ]
  },
  {
   "cell_type": "code",
   "execution_count": 25,
   "id": "e1559669",
   "metadata": {},
   "outputs": [
    {
     "data": {
      "text/plain": [
       "children\n",
       "0    66.058788\n",
       "1    22.539965\n",
       "2     9.619802\n",
       "3     1.547044\n",
       "4     0.192209\n",
       "5     0.042192\n",
       "Name: part_count, dtype: float64"
      ]
     },
     "execution_count": 25,
     "metadata": {},
     "output_type": "execute_result"
    }
   ],
   "source": [
    "total = data_children['count'].sum()\n",
    "data_children['part_count'] = data_children['count']/total*100\n",
    "data_children['part_count']"
   ]
  },
  {
   "cell_type": "markdown",
   "id": "c79b5d39",
   "metadata": {},
   "source": [
    "Самую большую группу обратившихся за кредитом составляю люди без детей (66%). Эта же группа проявила себя как более сознательные в вопросе своевременного возвращения кредита.\n",
    "\n",
    "Люди, у которых 4 и более детей в семье - это редкость.\n",
    "\n",
    "Люди с 3 детьми в семье немного «поломали» выдвинутую гипотезу. Но так как их доля составляет всего 1,5%, то предлагаю выделить две категории баллов по надежности возврата кредита:\n",
    "\n",
    "- `0 детей` – категория балл `1`,\n",
    "\n",
    "- `есть дети` – категория балл `0`.\n",
    "\n",
    "Введем в наш датафрейм столбец `balls_children` и повторим расчеты. \n",
    "\n",
    "Предварительно обьявим метод, который позволит и следующие признаки(столбцы) приводить к нужным категориям - баллам.\n",
    "На вход метод принимает датафрейм, в теле метода используем заранее созданный словарь (для каждого столбца - призанака свой) для определения укрупненных категорий - баллов. На выходе получаем балл по каждому элементу столбца-признака."
   ]
  },
  {
   "cell_type": "code",
   "execution_count": 26,
   "id": "8f9c2133",
   "metadata": {},
   "outputs": [],
   "source": [
    "def balls(row):    \n",
    "    for key, values in balls_column_dict.items():        \n",
    "        if key == row:\n",
    "            return values"
   ]
  },
  {
   "cell_type": "markdown",
   "id": "fb2095d8",
   "metadata": {},
   "source": [
    "Следуя нашей гипотезе зададим систему балов для столбца `children` :\n",
    "\n",
    "- `0 детей` - категория балл`1`,\n",
    "\n",
    "- `есть дети` - категория балл `0`.\n",
    "\n",
    "Для этого создадим словарь балов и применим метод `balls`.\n",
    "\n",
    "Словарь состоит из:\n",
    "\n",
    "- ключ - это группа по столбцу - признаку,\n",
    "\n",
    "- значение соответствующее ключу - это баллы."
   ]
  },
  {
   "cell_type": "code",
   "execution_count": 27,
   "id": "64bf9d55",
   "metadata": {},
   "outputs": [
    {
     "data": {
      "text/html": [
       "<div>\n",
       "<style scoped>\n",
       "    .dataframe tbody tr th:only-of-type {\n",
       "        vertical-align: middle;\n",
       "    }\n",
       "\n",
       "    .dataframe tbody tr th {\n",
       "        vertical-align: top;\n",
       "    }\n",
       "\n",
       "    .dataframe thead th {\n",
       "        text-align: right;\n",
       "    }\n",
       "</style>\n",
       "<table border=\"1\" class=\"dataframe\">\n",
       "  <thead>\n",
       "    <tr style=\"text-align: right;\">\n",
       "      <th></th>\n",
       "      <th>balls_children</th>\n",
       "      <th>children</th>\n",
       "    </tr>\n",
       "  </thead>\n",
       "  <tbody>\n",
       "    <tr>\n",
       "      <th>0</th>\n",
       "      <td>0</td>\n",
       "      <td>1</td>\n",
       "    </tr>\n",
       "    <tr>\n",
       "      <th>1</th>\n",
       "      <td>0</td>\n",
       "      <td>1</td>\n",
       "    </tr>\n",
       "    <tr>\n",
       "      <th>2</th>\n",
       "      <td>1</td>\n",
       "      <td>0</td>\n",
       "    </tr>\n",
       "    <tr>\n",
       "      <th>3</th>\n",
       "      <td>0</td>\n",
       "      <td>3</td>\n",
       "    </tr>\n",
       "    <tr>\n",
       "      <th>4</th>\n",
       "      <td>1</td>\n",
       "      <td>0</td>\n",
       "    </tr>\n",
       "    <tr>\n",
       "      <th>...</th>\n",
       "      <td>...</td>\n",
       "      <td>...</td>\n",
       "    </tr>\n",
       "    <tr>\n",
       "      <th>21520</th>\n",
       "      <td>0</td>\n",
       "      <td>1</td>\n",
       "    </tr>\n",
       "    <tr>\n",
       "      <th>21521</th>\n",
       "      <td>1</td>\n",
       "      <td>0</td>\n",
       "    </tr>\n",
       "    <tr>\n",
       "      <th>21522</th>\n",
       "      <td>0</td>\n",
       "      <td>1</td>\n",
       "    </tr>\n",
       "    <tr>\n",
       "      <th>21523</th>\n",
       "      <td>0</td>\n",
       "      <td>3</td>\n",
       "    </tr>\n",
       "    <tr>\n",
       "      <th>21524</th>\n",
       "      <td>0</td>\n",
       "      <td>2</td>\n",
       "    </tr>\n",
       "  </tbody>\n",
       "</table>\n",
       "<p>21331 rows × 2 columns</p>\n",
       "</div>"
      ],
      "text/plain": [
       "       balls_children  children\n",
       "0                   0         1\n",
       "1                   0         1\n",
       "2                   1         0\n",
       "3                   0         3\n",
       "4                   1         0\n",
       "...               ...       ...\n",
       "21520               0         1\n",
       "21521               1         0\n",
       "21522               0         1\n",
       "21523               0         3\n",
       "21524               0         2\n",
       "\n",
       "[21331 rows x 2 columns]"
      ]
     },
     "execution_count": 27,
     "metadata": {},
     "output_type": "execute_result"
    }
   ],
   "source": [
    "balls_column_dict = {0:1, 1:0, 2:0, 3:0, 4:0, 5:0} \n",
    "data['balls_children'] = data['children'].apply(balls)\n",
    "data[['balls_children', 'children']] \n",
    "# проверим: добавился ил столбец в датафраме,а так же коррекность заполения нового столбца"
   ]
  },
  {
   "cell_type": "markdown",
   "id": "4a15bf2c",
   "metadata": {},
   "source": [
    "Применим метод `category_calculation` к укрупненным группам (`balls_children`) и проверим гипотезу."
   ]
  },
  {
   "cell_type": "code",
   "execution_count": 28,
   "id": "7150338b",
   "metadata": {},
   "outputs": [
    {
     "data": {
      "text/html": [
       "<div>\n",
       "<style scoped>\n",
       "    .dataframe tbody tr th:only-of-type {\n",
       "        vertical-align: middle;\n",
       "    }\n",
       "\n",
       "    .dataframe tbody tr th {\n",
       "        vertical-align: top;\n",
       "    }\n",
       "\n",
       "    .dataframe thead th {\n",
       "        text-align: right;\n",
       "    }\n",
       "</style>\n",
       "<table border=\"1\" class=\"dataframe\">\n",
       "  <thead>\n",
       "    <tr style=\"text-align: right;\">\n",
       "      <th></th>\n",
       "      <th>debt</th>\n",
       "      <th>count</th>\n",
       "      <th>part_debtors</th>\n",
       "    </tr>\n",
       "    <tr>\n",
       "      <th>balls_children</th>\n",
       "      <th></th>\n",
       "      <th></th>\n",
       "      <th></th>\n",
       "    </tr>\n",
       "  </thead>\n",
       "  <tbody>\n",
       "    <tr>\n",
       "      <th>1</th>\n",
       "      <td>1063</td>\n",
       "      <td>14091</td>\n",
       "      <td>7.543822</td>\n",
       "    </tr>\n",
       "    <tr>\n",
       "      <th>0</th>\n",
       "      <td>669</td>\n",
       "      <td>7240</td>\n",
       "      <td>9.240331</td>\n",
       "    </tr>\n",
       "  </tbody>\n",
       "</table>\n",
       "</div>"
      ],
      "text/plain": [
       "                debt  count  part_debtors\n",
       "balls_children                           \n",
       "1               1063  14091      7.543822\n",
       "0                669   7240      9.240331"
      ]
     },
     "execution_count": 28,
     "metadata": {},
     "output_type": "execute_result"
    }
   ],
   "source": [
    "data_children_balls = category_calculation(data,'balls_children') # вызовим метод category_calculation\n",
    "data_children_balls.sort_values(by='part_debtors', ascending=True)"
   ]
  },
  {
   "cell_type": "markdown",
   "id": "cde6c7c6",
   "metadata": {
    "deletable": false,
    "id": "3a6b99ec"
   },
   "source": [
    "**Вывод:** \n",
    "\n",
    "Гипотезу подтвердили -  наличие детей снижает рейтинг - бал заемщика, так как заемщику труднее платить по кредиту. \n",
    "\n",
    "Хотелось бы отметить, что доля не своевременно выплаченных кредитов в двух категориях(по баллам) отличается менее чем на 2%. А это значит, что отсутствие детей если и влияет на своевременность выплат по кредиту, то не радикально.\n"
   ]
  },
  {
   "cell_type": "markdown",
   "id": "71b8efa3",
   "metadata": {},
   "source": [
    "<a id = 'sample_imbalance'></a>"
   ]
  },
  {
   "cell_type": "markdown",
   "id": "daa7cc15",
   "metadata": {},
   "source": [
    "Данные нашего дата фрейма содержат непропорциональную долю наблюдений в каждой группе (группы по количеству детей в семье). Дисбаланс может привести к появлению ложного впечатления о высокой точности данных анализа, так как входные данные смещены в сторону одной группы, которая показывает лучшие результаты. Выделение двух категорий(балов) позволило немого сбалансировать выборку (добились соотношения 66/44)."
   ]
  },
  {
   "cell_type": "markdown",
   "id": "5bee45bf",
   "metadata": {},
   "source": [
    "<a id = 'family_status'></a>"
   ]
  },
  {
   "cell_type": "markdown",
   "id": "2d44bc4f",
   "metadata": {
    "deletable": false,
    "editable": false,
    "id": "97be82ca"
   },
   "source": [
    "#### 3.2 Есть ли зависимость между семейным положением и возвратом кредита в срок?"
   ]
  },
  {
   "cell_type": "markdown",
   "id": "8e57f4d7",
   "metadata": {},
   "source": [
    "Выдвинем гипотезу: люди, \"не обремененные\" семьей менее ответственные. Ведь взять кредит и вовремя его вернуть гораздо проще, чем прожить всю жизнь с одним человеком!"
   ]
  },
  {
   "cell_type": "code",
   "execution_count": 29,
   "id": "f95e5cb0",
   "metadata": {
    "deletable": false,
    "id": "dc3f7ee8"
   },
   "outputs": [
    {
     "data": {
      "text/html": [
       "<div>\n",
       "<style scoped>\n",
       "    .dataframe tbody tr th:only-of-type {\n",
       "        vertical-align: middle;\n",
       "    }\n",
       "\n",
       "    .dataframe tbody tr th {\n",
       "        vertical-align: top;\n",
       "    }\n",
       "\n",
       "    .dataframe thead th {\n",
       "        text-align: right;\n",
       "    }\n",
       "</style>\n",
       "<table border=\"1\" class=\"dataframe\">\n",
       "  <thead>\n",
       "    <tr style=\"text-align: right;\">\n",
       "      <th></th>\n",
       "      <th>debt</th>\n",
       "      <th>count</th>\n",
       "      <th>part_debtors</th>\n",
       "    </tr>\n",
       "    <tr>\n",
       "      <th>family_status</th>\n",
       "      <th></th>\n",
       "      <th></th>\n",
       "      <th></th>\n",
       "    </tr>\n",
       "  </thead>\n",
       "  <tbody>\n",
       "    <tr>\n",
       "      <th>вдовец / вдова</th>\n",
       "      <td>63</td>\n",
       "      <td>951</td>\n",
       "      <td>6.624606</td>\n",
       "    </tr>\n",
       "    <tr>\n",
       "      <th>в разводе</th>\n",
       "      <td>84</td>\n",
       "      <td>1189</td>\n",
       "      <td>7.064760</td>\n",
       "    </tr>\n",
       "    <tr>\n",
       "      <th>женат / замужем</th>\n",
       "      <td>927</td>\n",
       "      <td>12261</td>\n",
       "      <td>7.560558</td>\n",
       "    </tr>\n",
       "    <tr>\n",
       "      <th>гражданский брак</th>\n",
       "      <td>385</td>\n",
       "      <td>4134</td>\n",
       "      <td>9.313014</td>\n",
       "    </tr>\n",
       "    <tr>\n",
       "      <th>Не женат / не замужем</th>\n",
       "      <td>273</td>\n",
       "      <td>2796</td>\n",
       "      <td>9.763948</td>\n",
       "    </tr>\n",
       "  </tbody>\n",
       "</table>\n",
       "</div>"
      ],
      "text/plain": [
       "                       debt  count  part_debtors\n",
       "family_status                                   \n",
       "вдовец / вдова           63    951      6.624606\n",
       "в разводе                84   1189      7.064760\n",
       "женат / замужем         927  12261      7.560558\n",
       "гражданский брак        385   4134      9.313014\n",
       "Не женат / не замужем   273   2796      9.763948"
      ]
     },
     "execution_count": 29,
     "metadata": {},
     "output_type": "execute_result"
    }
   ],
   "source": [
    "data_family_status = category_calculation(data,'family_status') # вызовим метод category_calculation \n",
    "data_family_status.sort_values(by='part_debtors', ascending=True)"
   ]
  },
  {
   "cell_type": "markdown",
   "id": "4faa54cd",
   "metadata": {},
   "source": [
    "Рассчитаем долю каждой группы(в %)"
   ]
  },
  {
   "cell_type": "code",
   "execution_count": 30,
   "id": "21475948",
   "metadata": {},
   "outputs": [
    {
     "data": {
      "text/plain": [
       "family_status\n",
       "Не женат / не замужем    13.107684\n",
       "в разводе                 5.574047\n",
       "вдовец / вдова            4.458300\n",
       "гражданский брак         19.380245\n",
       "женат / замужем          57.479724\n",
       "Name: part_count, dtype: float64"
      ]
     },
     "execution_count": 30,
     "metadata": {},
     "output_type": "execute_result"
    }
   ],
   "source": [
    "total = data_family_status['count'].sum()\n",
    "data_family_status['part_count'] = data_family_status['count']/total*100\n",
    "data_family_status['part_count']"
   ]
  },
  {
   "cell_type": "markdown",
   "id": "b50efdc8",
   "metadata": {},
   "source": [
    "Что ж, данные по расчетам в таблице не очень утешительные. Исходя из них, кредиты нужно давать вдовцам, а не семейным или холостым. Нужно отметить, что одинокие люди в выборке составляют 23% (с социальной и демографической точки зрения это не так много и хорошо)\n",
    "\n",
    "Люди создавшие \"ячейку общества\" (`женат/замужем` и `гражданский брак`) оказались менее сознательными.\n",
    "\n",
    "Самой не сознательной категорией выявилась `Не женат/не замужем`.\n",
    "\n",
    "Не смотря на то, что у нас в датафрейме уже есть идентификатор семейного положения, данные несбалансированы. Предлагаю укрупнить группы и создать новые категории - баллы:\n",
    "\n",
    "- одинокие ( вдовцы и разведенные) - категория балл`2`,\n",
    "\n",
    "- состоят в отношениях/браке - категория балл`1`,\n",
    "\n",
    "- не женат/ не замужем - категория балл`0`\n",
    "\n",
    "Проверим гипотезу (люди, \"не обремененные\" семьей, более надежные заемщики)\n"
   ]
  },
  {
   "cell_type": "code",
   "execution_count": 31,
   "id": "fdbf3bc6",
   "metadata": {},
   "outputs": [
    {
     "data": {
      "text/html": [
       "<div>\n",
       "<style scoped>\n",
       "    .dataframe tbody tr th:only-of-type {\n",
       "        vertical-align: middle;\n",
       "    }\n",
       "\n",
       "    .dataframe tbody tr th {\n",
       "        vertical-align: top;\n",
       "    }\n",
       "\n",
       "    .dataframe thead th {\n",
       "        text-align: right;\n",
       "    }\n",
       "</style>\n",
       "<table border=\"1\" class=\"dataframe\">\n",
       "  <thead>\n",
       "    <tr style=\"text-align: right;\">\n",
       "      <th></th>\n",
       "      <th>balls_family_status</th>\n",
       "      <th>family_status</th>\n",
       "    </tr>\n",
       "  </thead>\n",
       "  <tbody>\n",
       "    <tr>\n",
       "      <th>21515</th>\n",
       "      <td>1</td>\n",
       "      <td>женат / замужем</td>\n",
       "    </tr>\n",
       "    <tr>\n",
       "      <th>21516</th>\n",
       "      <td>1</td>\n",
       "      <td>женат / замужем</td>\n",
       "    </tr>\n",
       "    <tr>\n",
       "      <th>21517</th>\n",
       "      <td>1</td>\n",
       "      <td>гражданский брак</td>\n",
       "    </tr>\n",
       "    <tr>\n",
       "      <th>21518</th>\n",
       "      <td>1</td>\n",
       "      <td>женат / замужем</td>\n",
       "    </tr>\n",
       "    <tr>\n",
       "      <th>21519</th>\n",
       "      <td>2</td>\n",
       "      <td>в разводе</td>\n",
       "    </tr>\n",
       "    <tr>\n",
       "      <th>21520</th>\n",
       "      <td>1</td>\n",
       "      <td>гражданский брак</td>\n",
       "    </tr>\n",
       "    <tr>\n",
       "      <th>21521</th>\n",
       "      <td>1</td>\n",
       "      <td>женат / замужем</td>\n",
       "    </tr>\n",
       "    <tr>\n",
       "      <th>21522</th>\n",
       "      <td>1</td>\n",
       "      <td>гражданский брак</td>\n",
       "    </tr>\n",
       "    <tr>\n",
       "      <th>21523</th>\n",
       "      <td>1</td>\n",
       "      <td>женат / замужем</td>\n",
       "    </tr>\n",
       "    <tr>\n",
       "      <th>21524</th>\n",
       "      <td>1</td>\n",
       "      <td>женат / замужем</td>\n",
       "    </tr>\n",
       "  </tbody>\n",
       "</table>\n",
       "</div>"
      ],
      "text/plain": [
       "       balls_family_status     family_status\n",
       "21515                    1   женат / замужем\n",
       "21516                    1   женат / замужем\n",
       "21517                    1  гражданский брак\n",
       "21518                    1   женат / замужем\n",
       "21519                    2         в разводе\n",
       "21520                    1  гражданский брак\n",
       "21521                    1   женат / замужем\n",
       "21522                    1  гражданский брак\n",
       "21523                    1   женат / замужем\n",
       "21524                    1   женат / замужем"
      ]
     },
     "execution_count": 31,
     "metadata": {},
     "output_type": "execute_result"
    }
   ],
   "source": [
    "#создаем словарь категорий\n",
    "balls_column_dict = {'вдовец / вдова':2, 'в разводе':2, 'женат / замужем':1, 'гражданский брак':1, 'Не женат / не замужем':0} \n",
    "data['balls_family_status'] = data['family_status'].apply(balls)\n",
    "data[['balls_family_status', 'family_status']].tail(10) \n",
    "# проверим: добавился ил столбец в датафраме,а так же коррекность заполения нового столбца"
   ]
  },
  {
   "cell_type": "markdown",
   "id": "1ac3ce02",
   "metadata": {},
   "source": [
    "Применим метод category_calculation к укрупненным группам по баллам (balls_family_status) и проверим гипотезу."
   ]
  },
  {
   "cell_type": "code",
   "execution_count": 32,
   "id": "b5a51a27",
   "metadata": {},
   "outputs": [
    {
     "data": {
      "text/html": [
       "<div>\n",
       "<style scoped>\n",
       "    .dataframe tbody tr th:only-of-type {\n",
       "        vertical-align: middle;\n",
       "    }\n",
       "\n",
       "    .dataframe tbody tr th {\n",
       "        vertical-align: top;\n",
       "    }\n",
       "\n",
       "    .dataframe thead th {\n",
       "        text-align: right;\n",
       "    }\n",
       "</style>\n",
       "<table border=\"1\" class=\"dataframe\">\n",
       "  <thead>\n",
       "    <tr style=\"text-align: right;\">\n",
       "      <th></th>\n",
       "      <th>debt</th>\n",
       "      <th>count</th>\n",
       "      <th>part_debtors</th>\n",
       "    </tr>\n",
       "    <tr>\n",
       "      <th>balls_family_status</th>\n",
       "      <th></th>\n",
       "      <th></th>\n",
       "      <th></th>\n",
       "    </tr>\n",
       "  </thead>\n",
       "  <tbody>\n",
       "    <tr>\n",
       "      <th>2</th>\n",
       "      <td>147</td>\n",
       "      <td>2140</td>\n",
       "      <td>6.869159</td>\n",
       "    </tr>\n",
       "    <tr>\n",
       "      <th>1</th>\n",
       "      <td>1312</td>\n",
       "      <td>16395</td>\n",
       "      <td>8.002440</td>\n",
       "    </tr>\n",
       "    <tr>\n",
       "      <th>0</th>\n",
       "      <td>273</td>\n",
       "      <td>2796</td>\n",
       "      <td>9.763948</td>\n",
       "    </tr>\n",
       "  </tbody>\n",
       "</table>\n",
       "</div>"
      ],
      "text/plain": [
       "                     debt  count  part_debtors\n",
       "balls_family_status                           \n",
       "2                     147   2140      6.869159\n",
       "1                    1312  16395      8.002440\n",
       "0                     273   2796      9.763948"
      ]
     },
     "execution_count": 32,
     "metadata": {},
     "output_type": "execute_result"
    }
   ],
   "source": [
    "data_family_status_balls = category_calculation(data,'balls_family_status') # вызовим метод category_calculation\n",
    "data_family_status_balls.sort_values(by='part_debtors', ascending=True)"
   ]
  },
  {
   "cell_type": "markdown",
   "id": "662be719",
   "metadata": {
    "deletable": false,
    "id": "1cef7837"
   },
   "source": [
    "**Вывод:** \n",
    "\n",
    "Гипотезу подтвердили частично- люди,ранее состоявшие в браке, но одинокие, более надежные заемщики.\n",
    "\n",
    "Люди создавшие \"ячейку общества\" оказались менее ненадежными заемщика, чем ранее сотоявшие в браке и лучше возвращают кредиты, чем холостые.\n",
    "\n",
    "Хотелось бы отметить, что доля не своевременно выплаченных кредитов в категориях женатых и холостых (по разным причинам) отличается менее чем на 2%. как в худшую, так и лучшую сторону. А это значит, что семья все же влияет на сознательность человека, позволяет подходить более разумно к своим желаниям и возможностям."
   ]
  },
  {
   "cell_type": "markdown",
   "id": "2266ccd4",
   "metadata": {},
   "source": [
    "<a id = 'total_income'></a>"
   ]
  },
  {
   "cell_type": "markdown",
   "id": "fef7b439",
   "metadata": {
    "deletable": false,
    "editable": false,
    "id": "1e8b2fca"
   },
   "source": [
    "#### 3.3 Есть ли зависимость между уровнем дохода и возвратом кредита в срок?"
   ]
  },
  {
   "cell_type": "markdown",
   "id": "d735ebd9",
   "metadata": {},
   "source": [
    "Выдвинем гипотезу: чем больше мы имеем, тем легче отдаем."
   ]
  },
  {
   "cell_type": "markdown",
   "id": "45113f75",
   "metadata": {},
   "source": [
    "Воспользуемся ранее проведенной категоризацией доходов:\n",
    "- 0–30000 — `'E'`;\n",
    "- 30001–50000 — `'D'`;\n",
    "- 50001–200000 — `'C'`;\n",
    "- 200001–1000000 — `'B'`;\n",
    "- 1000001 и выше — `'A'`.\n",
    "\n",
    "Для этого используем столбец-признак `total_income_category`.\n"
   ]
  },
  {
   "cell_type": "code",
   "execution_count": 33,
   "id": "2b590361",
   "metadata": {
    "deletable": false,
    "id": "cd7e3720"
   },
   "outputs": [
    {
     "data": {
      "text/html": [
       "<div>\n",
       "<style scoped>\n",
       "    .dataframe tbody tr th:only-of-type {\n",
       "        vertical-align: middle;\n",
       "    }\n",
       "\n",
       "    .dataframe tbody tr th {\n",
       "        vertical-align: top;\n",
       "    }\n",
       "\n",
       "    .dataframe thead th {\n",
       "        text-align: right;\n",
       "    }\n",
       "</style>\n",
       "<table border=\"1\" class=\"dataframe\">\n",
       "  <thead>\n",
       "    <tr style=\"text-align: right;\">\n",
       "      <th></th>\n",
       "      <th>debt</th>\n",
       "      <th>count</th>\n",
       "      <th>part_debtors</th>\n",
       "    </tr>\n",
       "    <tr>\n",
       "      <th>total_income_category</th>\n",
       "      <th></th>\n",
       "      <th></th>\n",
       "      <th></th>\n",
       "    </tr>\n",
       "  </thead>\n",
       "  <tbody>\n",
       "    <tr>\n",
       "      <th>D</th>\n",
       "      <td>21</td>\n",
       "      <td>349</td>\n",
       "      <td>6.017192</td>\n",
       "    </tr>\n",
       "    <tr>\n",
       "      <th>B</th>\n",
       "      <td>354</td>\n",
       "      <td>5014</td>\n",
       "      <td>7.060231</td>\n",
       "    </tr>\n",
       "    <tr>\n",
       "      <th>A</th>\n",
       "      <td>2</td>\n",
       "      <td>25</td>\n",
       "      <td>8.000000</td>\n",
       "    </tr>\n",
       "    <tr>\n",
       "      <th>C</th>\n",
       "      <td>1353</td>\n",
       "      <td>15921</td>\n",
       "      <td>8.498210</td>\n",
       "    </tr>\n",
       "    <tr>\n",
       "      <th>E</th>\n",
       "      <td>2</td>\n",
       "      <td>22</td>\n",
       "      <td>9.090909</td>\n",
       "    </tr>\n",
       "  </tbody>\n",
       "</table>\n",
       "</div>"
      ],
      "text/plain": [
       "                       debt  count  part_debtors\n",
       "total_income_category                           \n",
       "D                        21    349      6.017192\n",
       "B                       354   5014      7.060231\n",
       "A                         2     25      8.000000\n",
       "C                      1353  15921      8.498210\n",
       "E                         2     22      9.090909"
      ]
     },
     "execution_count": 33,
     "metadata": {},
     "output_type": "execute_result"
    }
   ],
   "source": [
    "data_total_income_category  = category_calculation(data,'total_income_category') # вызовим метод category_calculation \n",
    "data_total_income_category.sort_values(by='part_debtors', ascending=True)"
   ]
  },
  {
   "cell_type": "markdown",
   "id": "66b8faf9",
   "metadata": {},
   "source": [
    "Зависимости между уровнем дохода и возвратом кредита в срок не наблюдается."
   ]
  },
  {
   "cell_type": "markdown",
   "id": "b100464f",
   "metadata": {},
   "source": [
    "Рассчитаем долю каждой категории в общей выборке(в %)"
   ]
  },
  {
   "cell_type": "code",
   "execution_count": 34,
   "id": "955604f1",
   "metadata": {},
   "outputs": [
    {
     "data": {
      "text/plain": [
       "total_income_category\n",
       "A     0.117200\n",
       "B    23.505696\n",
       "C    74.637851\n",
       "D     1.636116\n",
       "E     0.103136\n",
       "Name: part_count, dtype: float64"
      ]
     },
     "execution_count": 34,
     "metadata": {},
     "output_type": "execute_result"
    }
   ],
   "source": [
    "total = data_total_income_category['count'].sum()\n",
    "data_total_income_category['part_count'] = data_total_income_category['count']/total*100\n",
    "data_total_income_category['part_count']"
   ]
  },
  {
   "cell_type": "markdown",
   "id": "980f734c",
   "metadata": {},
   "source": [
    "Оказывается, что самым часто встречающимся заемщиком являются заемщики группы `С` с доходом `50 001–200 000`, где доход превыщает среднюю заработную плату по стране. Но они хуже всех (не считая группу `Е`) отдаю кредиты.\n",
    "Менее всего берут кредиты группы `А` и `Е`. Это вполне закономерно, группа `А` может свои потребности удовлетворить за счет доходов (хотя это не помешало им попасть в тройку антирейтинга по возврату кредитов), а группа `Е` не сможет вернуть кредит из-за маленького дохода (что потверждается высоким процентом не своевременного возврата кредита)."
   ]
  },
  {
   "cell_type": "markdown",
   "id": "2685be4f",
   "metadata": {},
   "source": [
    "Попробуем запустить для исследования другие категории - баллы :\n",
    "\n",
    "- объедими группы `А`, `В` и `С` в одну категорию - категория балл`0`,\n",
    "\n",
    "- объедими группы `D` и `Е` в одну категорию - категория балл`1`."
   ]
  },
  {
   "cell_type": "code",
   "execution_count": 35,
   "id": "7629bc7a",
   "metadata": {},
   "outputs": [
    {
     "data": {
      "text/html": [
       "<div>\n",
       "<style scoped>\n",
       "    .dataframe tbody tr th:only-of-type {\n",
       "        vertical-align: middle;\n",
       "    }\n",
       "\n",
       "    .dataframe tbody tr th {\n",
       "        vertical-align: top;\n",
       "    }\n",
       "\n",
       "    .dataframe thead th {\n",
       "        text-align: right;\n",
       "    }\n",
       "</style>\n",
       "<table border=\"1\" class=\"dataframe\">\n",
       "  <thead>\n",
       "    <tr style=\"text-align: right;\">\n",
       "      <th></th>\n",
       "      <th>balls_total_income</th>\n",
       "      <th>total_income_category</th>\n",
       "    </tr>\n",
       "  </thead>\n",
       "  <tbody>\n",
       "    <tr>\n",
       "      <th>0</th>\n",
       "      <td>0</td>\n",
       "      <td>B</td>\n",
       "    </tr>\n",
       "    <tr>\n",
       "      <th>1</th>\n",
       "      <td>0</td>\n",
       "      <td>C</td>\n",
       "    </tr>\n",
       "    <tr>\n",
       "      <th>2</th>\n",
       "      <td>0</td>\n",
       "      <td>C</td>\n",
       "    </tr>\n",
       "    <tr>\n",
       "      <th>3</th>\n",
       "      <td>0</td>\n",
       "      <td>B</td>\n",
       "    </tr>\n",
       "    <tr>\n",
       "      <th>4</th>\n",
       "      <td>0</td>\n",
       "      <td>C</td>\n",
       "    </tr>\n",
       "    <tr>\n",
       "      <th>5</th>\n",
       "      <td>0</td>\n",
       "      <td>B</td>\n",
       "    </tr>\n",
       "    <tr>\n",
       "      <th>6</th>\n",
       "      <td>0</td>\n",
       "      <td>B</td>\n",
       "    </tr>\n",
       "    <tr>\n",
       "      <th>7</th>\n",
       "      <td>0</td>\n",
       "      <td>C</td>\n",
       "    </tr>\n",
       "    <tr>\n",
       "      <th>8</th>\n",
       "      <td>0</td>\n",
       "      <td>C</td>\n",
       "    </tr>\n",
       "    <tr>\n",
       "      <th>9</th>\n",
       "      <td>0</td>\n",
       "      <td>C</td>\n",
       "    </tr>\n",
       "  </tbody>\n",
       "</table>\n",
       "</div>"
      ],
      "text/plain": [
       "   balls_total_income total_income_category\n",
       "0                   0                     B\n",
       "1                   0                     C\n",
       "2                   0                     C\n",
       "3                   0                     B\n",
       "4                   0                     C\n",
       "5                   0                     B\n",
       "6                   0                     B\n",
       "7                   0                     C\n",
       "8                   0                     C\n",
       "9                   0                     C"
      ]
     },
     "execution_count": 35,
     "metadata": {},
     "output_type": "execute_result"
    }
   ],
   "source": [
    "#создаем словарь категорий\n",
    "balls_column_dict = {'A':0, 'B':0, 'C':0, 'D':1, 'E':1} \n",
    "data['balls_total_income'] = data['total_income_category'].apply(balls)\n",
    "data[['balls_total_income', 'total_income_category']].head(10) \n",
    "# проверим: добавился ил столбец в датафраме,а так же коррекность заполения нового столбца"
   ]
  },
  {
   "cell_type": "code",
   "execution_count": 36,
   "id": "df102732",
   "metadata": {},
   "outputs": [
    {
     "data": {
      "text/html": [
       "<div>\n",
       "<style scoped>\n",
       "    .dataframe tbody tr th:only-of-type {\n",
       "        vertical-align: middle;\n",
       "    }\n",
       "\n",
       "    .dataframe tbody tr th {\n",
       "        vertical-align: top;\n",
       "    }\n",
       "\n",
       "    .dataframe thead th {\n",
       "        text-align: right;\n",
       "    }\n",
       "</style>\n",
       "<table border=\"1\" class=\"dataframe\">\n",
       "  <thead>\n",
       "    <tr style=\"text-align: right;\">\n",
       "      <th></th>\n",
       "      <th>debt</th>\n",
       "      <th>count</th>\n",
       "      <th>part_debtors</th>\n",
       "    </tr>\n",
       "    <tr>\n",
       "      <th>balls_total_income</th>\n",
       "      <th></th>\n",
       "      <th></th>\n",
       "      <th></th>\n",
       "    </tr>\n",
       "  </thead>\n",
       "  <tbody>\n",
       "    <tr>\n",
       "      <th>1</th>\n",
       "      <td>23</td>\n",
       "      <td>371</td>\n",
       "      <td>6.199461</td>\n",
       "    </tr>\n",
       "    <tr>\n",
       "      <th>0</th>\n",
       "      <td>1709</td>\n",
       "      <td>20960</td>\n",
       "      <td>8.153626</td>\n",
       "    </tr>\n",
       "  </tbody>\n",
       "</table>\n",
       "</div>"
      ],
      "text/plain": [
       "                    debt  count  part_debtors\n",
       "balls_total_income                           \n",
       "1                     23    371      6.199461\n",
       "0                   1709  20960      8.153626"
      ]
     },
     "execution_count": 36,
     "metadata": {},
     "output_type": "execute_result"
    }
   ],
   "source": [
    "data_total_income_balls = category_calculation(data,'balls_total_income') # вызовим метод category_calculation\n",
    "data_total_income_balls.sort_values(by='part_debtors', ascending=True)"
   ]
  },
  {
   "cell_type": "markdown",
   "id": "d069d93b",
   "metadata": {
    "deletable": false,
    "id": "e8593def"
   },
   "source": [
    "Как ни странно, но по выборке доходов сложно найти зависимость надежности клиентов от их дохода. В целом, данные показывают, что заемщики с доходом ниже средней заработной платы по стране ( менее 50 тысяч) кредиты возвращают активнее, чем заемщики с более высоким доходом. Но частота их обращение с трудом составит 1,8% от общей выборки.\n",
    "\n",
    "Так как заемщиков с доходом более 50 тыс превалирующая доля, то их хочется упомянуть отдельно и подробнее:\n",
    "\n",
    "- доля заемщиков с доходом 50тыс - 200тыс самая внушительная - 75%, а кредиты они возвращают хуже всех (8.50% несвоевременных возвратов),\n",
    "\n",
    "- заемщики с доходом от 200тыс в этой группе более дисциплинированные (7,06%несвоевременных возвратов) , их доля в общей выборке не велика - 24% (в три раза меньше, чем клиентов с доходом 50-200тыс).\n",
    "\n",
    "Можно сказать, что гипотеза о том, что чем выше доход, тем надежнее заемщик не подтвердилась. \n"
   ]
  },
  {
   "cell_type": "markdown",
   "id": "bfc7dee0",
   "metadata": {},
   "source": [
    "<a id = 'equal_intervals'></a>"
   ]
  },
  {
   "cell_type": "markdown",
   "id": "413f78b0",
   "metadata": {},
   "source": [
    "В данной выборке так же наблюдаем несбалансованность данных по группам, а это в свою очередь снижает достоверность анализа.\n",
    "\n",
    "Разделим данные признака `total_income` на интервалы равного размера. Для этого воспользуемся методом `.qcut()` и посчитаем количество клиентов, приходящихся на каждую новую группу распределения."
   ]
  },
  {
   "cell_type": "code",
   "execution_count": 37,
   "id": "3ac5c95a",
   "metadata": {},
   "outputs": [
    {
     "data": {
      "text/plain": [
       "(107507.0, 142594.0]     5450\n",
       "(20666.999, 107507.0]    5333\n",
       "(195842.0, 2265604.0]    5332\n",
       "(142594.0, 195842.0]     5216\n",
       "Name: quantile_total_income, dtype: int64"
      ]
     },
     "execution_count": 37,
     "metadata": {},
     "output_type": "execute_result"
    }
   ],
   "source": [
    "data['quantile_total_income']  = pd.qcut(data['total_income'], q = 4) \n",
    "data['quantile_total_income'].value_counts()"
   ]
  },
  {
   "cell_type": "markdown",
   "id": "b8db7a11",
   "metadata": {},
   "source": [
    "Разбили на 4 группы:\n",
    "\n",
    "- от 20,7 тыс до 107,5 тыс\n",
    "- от 107,5 тыс до 142,6 тыс\n",
    "- от 142,6 тыс до 195,8 тыс\n",
    "- от 195,8 тыс до 2 2265,6 тыс"
   ]
  },
  {
   "cell_type": "code",
   "execution_count": 38,
   "id": "74fb346c",
   "metadata": {},
   "outputs": [
    {
     "data": {
      "text/html": [
       "<div>\n",
       "<style scoped>\n",
       "    .dataframe tbody tr th:only-of-type {\n",
       "        vertical-align: middle;\n",
       "    }\n",
       "\n",
       "    .dataframe tbody tr th {\n",
       "        vertical-align: top;\n",
       "    }\n",
       "\n",
       "    .dataframe thead th {\n",
       "        text-align: right;\n",
       "    }\n",
       "</style>\n",
       "<table border=\"1\" class=\"dataframe\">\n",
       "  <thead>\n",
       "    <tr style=\"text-align: right;\">\n",
       "      <th></th>\n",
       "      <th>debt</th>\n",
       "      <th>count</th>\n",
       "      <th>part_debtors</th>\n",
       "    </tr>\n",
       "    <tr>\n",
       "      <th>quantile_total_income</th>\n",
       "      <th></th>\n",
       "      <th></th>\n",
       "      <th></th>\n",
       "    </tr>\n",
       "  </thead>\n",
       "  <tbody>\n",
       "    <tr>\n",
       "      <th>(195842.0, 2265604.0]</th>\n",
       "      <td>381</td>\n",
       "      <td>5332</td>\n",
       "      <td>7.145536</td>\n",
       "    </tr>\n",
       "    <tr>\n",
       "      <th>(20666.999, 107507.0]</th>\n",
       "      <td>427</td>\n",
       "      <td>5333</td>\n",
       "      <td>8.006750</td>\n",
       "    </tr>\n",
       "    <tr>\n",
       "      <th>(142594.0, 195842.0]</th>\n",
       "      <td>444</td>\n",
       "      <td>5216</td>\n",
       "      <td>8.512270</td>\n",
       "    </tr>\n",
       "    <tr>\n",
       "      <th>(107507.0, 142594.0]</th>\n",
       "      <td>480</td>\n",
       "      <td>5450</td>\n",
       "      <td>8.807339</td>\n",
       "    </tr>\n",
       "  </tbody>\n",
       "</table>\n",
       "</div>"
      ],
      "text/plain": [
       "                       debt  count  part_debtors\n",
       "quantile_total_income                           \n",
       "(195842.0, 2265604.0]   381   5332      7.145536\n",
       "(20666.999, 107507.0]   427   5333      8.006750\n",
       "(142594.0, 195842.0]    444   5216      8.512270\n",
       "(107507.0, 142594.0]    480   5450      8.807339"
      ]
     },
     "execution_count": 38,
     "metadata": {},
     "output_type": "execute_result"
    }
   ],
   "source": [
    "data_total_income_category  = category_calculation(data,'quantile_total_income') # вызовим метод category_calculation \n",
    "data_total_income_category.sort_values(by='part_debtors', ascending=True)"
   ]
  },
  {
   "cell_type": "markdown",
   "id": "8f11d47c",
   "metadata": {},
   "source": [
    "Заемщики с доходом от 195,8 тыс и более  более дисциплинированные (7,14% несвоевременных возвратов).\n",
    "\n",
    "Возьмем для дальнейших расчетов новые интервалы сбалансированной выборки:\n",
    "\n",
    "- от 20,7 тыс до 107,5 тыс - категория `D`\n",
    "- от 107,5 тыс до 142,6 тыс - категория `C`\n",
    "- от 142,6 тыс до 195 8 тыс - категория `B`\n",
    "- от 195,8 тыс и более - категория `A`\n",
    "\n",
    "Для этого используем метод `categorize_income` и заменим значения в столбце `purpose_category`"
   ]
  },
  {
   "cell_type": "code",
   "execution_count": 39,
   "id": "9e9094db",
   "metadata": {},
   "outputs": [],
   "source": [
    "def categorize_income(income):\n",
    "    try:\n",
    "        if 0 <= income <= 107507:\n",
    "            return 'D'\n",
    "        elif 107507 < income <= 142594:\n",
    "            return 'C'\n",
    "        elif 142594 < income <= 195842:\n",
    "            return 'B'       \n",
    "        elif income > 195842:            \n",
    "            return 'A'\n",
    "    except:\n",
    "        pass"
   ]
  },
  {
   "cell_type": "code",
   "execution_count": 40,
   "id": "d59bcacd",
   "metadata": {},
   "outputs": [],
   "source": [
    "data['total_income_category'] = data['total_income'].apply(categorize_income)"
   ]
  },
  {
   "cell_type": "markdown",
   "id": "b402eaa4",
   "metadata": {},
   "source": [
    "Создадим словарь категорий для распределения баллов."
   ]
  },
  {
   "cell_type": "code",
   "execution_count": 41,
   "id": "794983ec",
   "metadata": {},
   "outputs": [],
   "source": [
    "#создаем словарь категорий\n",
    "balls_column_dict = {'D':0, 'C':0, 'B':1, 'A':1} \n",
    "data['balls_total_income'] = data['total_income_category'].apply(balls)\n",
    "#data[['balls_total_income', 'total_income_category']].head(10) \n",
    "# проверим: добавился ил столбец в датафраме,а так же коррекность заполения нового столбца"
   ]
  },
  {
   "cell_type": "code",
   "execution_count": 42,
   "id": "9a2c00b7",
   "metadata": {},
   "outputs": [
    {
     "data": {
      "text/html": [
       "<div>\n",
       "<style scoped>\n",
       "    .dataframe tbody tr th:only-of-type {\n",
       "        vertical-align: middle;\n",
       "    }\n",
       "\n",
       "    .dataframe tbody tr th {\n",
       "        vertical-align: top;\n",
       "    }\n",
       "\n",
       "    .dataframe thead th {\n",
       "        text-align: right;\n",
       "    }\n",
       "</style>\n",
       "<table border=\"1\" class=\"dataframe\">\n",
       "  <thead>\n",
       "    <tr style=\"text-align: right;\">\n",
       "      <th></th>\n",
       "      <th>debt</th>\n",
       "      <th>count</th>\n",
       "      <th>part_debtors</th>\n",
       "    </tr>\n",
       "    <tr>\n",
       "      <th>balls_total_income</th>\n",
       "      <th></th>\n",
       "      <th></th>\n",
       "      <th></th>\n",
       "    </tr>\n",
       "  </thead>\n",
       "  <tbody>\n",
       "    <tr>\n",
       "      <th>1</th>\n",
       "      <td>825</td>\n",
       "      <td>10548</td>\n",
       "      <td>7.821388</td>\n",
       "    </tr>\n",
       "    <tr>\n",
       "      <th>0</th>\n",
       "      <td>907</td>\n",
       "      <td>10783</td>\n",
       "      <td>8.411388</td>\n",
       "    </tr>\n",
       "  </tbody>\n",
       "</table>\n",
       "</div>"
      ],
      "text/plain": [
       "                    debt  count  part_debtors\n",
       "balls_total_income                           \n",
       "1                    825  10548      7.821388\n",
       "0                    907  10783      8.411388"
      ]
     },
     "execution_count": 42,
     "metadata": {},
     "output_type": "execute_result"
    }
   ],
   "source": [
    "data_total_income_balls = category_calculation(data,'balls_total_income') # вызовим метод category_calculation\n",
    "data_total_income_balls.sort_values(by='part_debtors', ascending=True)"
   ]
  },
  {
   "cell_type": "markdown",
   "id": "98c87a57",
   "metadata": {},
   "source": [
    "**Вывод**\n",
    "\n",
    "При нормализации данных мы практически подтвердили предыдущие выводы (построенные на ненормализованных данных).\n",
    "\n",
    "В целом, мы получили крайне не последовательную тенденцию:\n",
    "- что заемщики с высоким доходом группа `A` (от 195,8 тысяч) кредиты возвращают активнее, чем заемщики с более низким доходом,\n",
    "- в свою очередь, заемщики группы с самым низким доходом группа `D` (до 107,5 тыс) выплачивают хуже, чем с самым высоким (гр. `A`), но лучше, чем в группе `B` с доходом от 142,5 тыс до 195,8 тыс\n",
    "\n",
    "Можно сказать, что гипотеза о том, что чем выше доход, тем надежнее заемщик подтвердилась частично.\n"
   ]
  },
  {
   "cell_type": "markdown",
   "id": "6a1366dd",
   "metadata": {},
   "source": [
    "<a id = 'purpose'></a>"
   ]
  },
  {
   "cell_type": "markdown",
   "id": "263af598",
   "metadata": {
    "deletable": false,
    "editable": false,
    "id": "99ecbd1f"
   },
   "source": [
    "#### 3.4 Как разные цели кредита влияют на его возврат в срок?"
   ]
  },
  {
   "cell_type": "markdown",
   "id": "4342360e",
   "metadata": {},
   "source": [
    "Определимся с гипотезой: на мой взгляд, чем выше у человека амбиции и желания, тем выше самознание и ответственность."
   ]
  },
  {
   "cell_type": "markdown",
   "id": "e316f2e7",
   "metadata": {},
   "source": [
    "Воспользуемся ранее проведенной категоризацие целей кредита:\n",
    "\n",
    "- операции с автомобилем,\n",
    "- операции с недвижимостью,\n",
    "- проведение свадьбы,\n",
    "- получение образования.\n",
    "\n",
    "Для этого используем столбец-признак `purpose_category`.\n"
   ]
  },
  {
   "cell_type": "code",
   "execution_count": 43,
   "id": "287dbdf8",
   "metadata": {
    "deletable": false,
    "id": "2b687290"
   },
   "outputs": [
    {
     "data": {
      "text/html": [
       "<div>\n",
       "<style scoped>\n",
       "    .dataframe tbody tr th:only-of-type {\n",
       "        vertical-align: middle;\n",
       "    }\n",
       "\n",
       "    .dataframe tbody tr th {\n",
       "        vertical-align: top;\n",
       "    }\n",
       "\n",
       "    .dataframe thead th {\n",
       "        text-align: right;\n",
       "    }\n",
       "</style>\n",
       "<table border=\"1\" class=\"dataframe\">\n",
       "  <thead>\n",
       "    <tr style=\"text-align: right;\">\n",
       "      <th></th>\n",
       "      <th>debt</th>\n",
       "      <th>count</th>\n",
       "      <th>part_debtors</th>\n",
       "    </tr>\n",
       "    <tr>\n",
       "      <th>purpose_category</th>\n",
       "      <th></th>\n",
       "      <th></th>\n",
       "      <th></th>\n",
       "    </tr>\n",
       "  </thead>\n",
       "  <tbody>\n",
       "    <tr>\n",
       "      <th>операции с недвижимостью</th>\n",
       "      <td>780</td>\n",
       "      <td>10751</td>\n",
       "      <td>7.255139</td>\n",
       "    </tr>\n",
       "    <tr>\n",
       "      <th>проведение свадьбы</th>\n",
       "      <td>183</td>\n",
       "      <td>2313</td>\n",
       "      <td>7.911803</td>\n",
       "    </tr>\n",
       "    <tr>\n",
       "      <th>получение образования</th>\n",
       "      <td>369</td>\n",
       "      <td>3988</td>\n",
       "      <td>9.252758</td>\n",
       "    </tr>\n",
       "    <tr>\n",
       "      <th>операции с автомобилем</th>\n",
       "      <td>400</td>\n",
       "      <td>4279</td>\n",
       "      <td>9.347978</td>\n",
       "    </tr>\n",
       "  </tbody>\n",
       "</table>\n",
       "</div>"
      ],
      "text/plain": [
       "                          debt  count  part_debtors\n",
       "purpose_category                                   \n",
       "операции с недвижимостью   780  10751      7.255139\n",
       "проведение свадьбы         183   2313      7.911803\n",
       "получение образования      369   3988      9.252758\n",
       "операции с автомобилем     400   4279      9.347978"
      ]
     },
     "execution_count": 43,
     "metadata": {},
     "output_type": "execute_result"
    }
   ],
   "source": [
    "data_purpose_category = category_calculation(data,'purpose_category') # вызовим метод category_calculation \n",
    "data_purpose_category.sort_values(by='part_debtors', ascending=True)"
   ]
  },
  {
   "cell_type": "markdown",
   "id": "15c8b129",
   "metadata": {},
   "source": [
    "Покупка недвижимости серьезный шаг, к возврату кредита заемщики подходят так же серьезно.\n",
    "\n",
    "Рассчитаем долю каждой категории в общей выборке(в %)"
   ]
  },
  {
   "cell_type": "code",
   "execution_count": 44,
   "id": "3dfbc7b9",
   "metadata": {},
   "outputs": [
    {
     "data": {
      "text/plain": [
       "purpose_category\n",
       "операции с автомобилем      20.060007\n",
       "операции с недвижимостью    50.400825\n",
       "получение образования       18.695795\n",
       "проведение свадьбы          10.843373\n",
       "Name: part_count, dtype: float64"
      ]
     },
     "execution_count": 44,
     "metadata": {},
     "output_type": "execute_result"
    }
   ],
   "source": [
    "total = data_purpose_category['count'].sum()\n",
    "data_purpose_category['part_count'] = data_purpose_category['count']/total*100\n",
    "data_purpose_category['part_count']"
   ]
  },
  {
   "cell_type": "markdown",
   "id": "ddf1085e",
   "metadata": {},
   "source": [
    "Полученные данные показывают, что наше общество заемщиков не сильно подвержено влиянию западно-европейских трендов, говорящих о том, что жить можно и в машине, а на пенсии - в доме престарелых.\n",
    "\n",
    "Для покупки \"своей крыши над головой\" обращаются за кредитом 50% заемщиков. Строительство, покупка или ремонт жилья несомненно приводит к улучшению качества жизни. К этому вопросу люди подходят ответсвеннней всего и не хотят долго находиться в долговой зависимости.\n",
    "\n",
    "Свадьба как оказалось дорогое событие, раз это является причиной одной из категорий займа, но с помощью родственников и друзей удается вовремя вернуть кредит.\n",
    "\n",
    "Хочется надеяться, что получив образование (17% от выборки), сразу же после обучения обращаются за кредитом для покупки автомобиля (20% от выборки). Но цифры по возврату кредита говорят об ином: хуже всего возвращают кредит те, кто получил его на образование и покупку автомобиля.\n",
    "\n",
    "Возможно образование забирает много времени и не позволяет получать достаточный и стабильный доход для возврата кредита в срок.\n",
    "\n",
    "Покупая автомобиль многие не задумываются, что вместе с ним преобретают и источник дополнительных забот и расходов (страховка, заправка, техническое обслуживание, а иногда и ДТП).\n",
    "\n",
    "Так как банку помимо сроков возврата кредита важна и сумма просроченный кредитов, укрупним категории согласно нашей гипотезы и присвоим баллы:\n",
    "- крупный займ (операции с недвижимостью) - категория балл `1`,\n",
    "- средний займ (получение образования, проведение свадьбы, операции с автомобилем) - категория балл `0`."
   ]
  },
  {
   "cell_type": "code",
   "execution_count": 45,
   "id": "ecb16854",
   "metadata": {},
   "outputs": [
    {
     "data": {
      "text/html": [
       "<div>\n",
       "<style scoped>\n",
       "    .dataframe tbody tr th:only-of-type {\n",
       "        vertical-align: middle;\n",
       "    }\n",
       "\n",
       "    .dataframe tbody tr th {\n",
       "        vertical-align: top;\n",
       "    }\n",
       "\n",
       "    .dataframe thead th {\n",
       "        text-align: right;\n",
       "    }\n",
       "</style>\n",
       "<table border=\"1\" class=\"dataframe\">\n",
       "  <thead>\n",
       "    <tr style=\"text-align: right;\">\n",
       "      <th></th>\n",
       "      <th>balls_purpose</th>\n",
       "      <th>purpose_category</th>\n",
       "    </tr>\n",
       "  </thead>\n",
       "  <tbody>\n",
       "    <tr>\n",
       "      <th>0</th>\n",
       "      <td>1</td>\n",
       "      <td>операции с недвижимостью</td>\n",
       "    </tr>\n",
       "    <tr>\n",
       "      <th>1</th>\n",
       "      <td>0</td>\n",
       "      <td>операции с автомобилем</td>\n",
       "    </tr>\n",
       "    <tr>\n",
       "      <th>2</th>\n",
       "      <td>1</td>\n",
       "      <td>операции с недвижимостью</td>\n",
       "    </tr>\n",
       "    <tr>\n",
       "      <th>3</th>\n",
       "      <td>0</td>\n",
       "      <td>получение образования</td>\n",
       "    </tr>\n",
       "    <tr>\n",
       "      <th>4</th>\n",
       "      <td>0</td>\n",
       "      <td>проведение свадьбы</td>\n",
       "    </tr>\n",
       "    <tr>\n",
       "      <th>5</th>\n",
       "      <td>1</td>\n",
       "      <td>операции с недвижимостью</td>\n",
       "    </tr>\n",
       "    <tr>\n",
       "      <th>6</th>\n",
       "      <td>1</td>\n",
       "      <td>операции с недвижимостью</td>\n",
       "    </tr>\n",
       "    <tr>\n",
       "      <th>7</th>\n",
       "      <td>0</td>\n",
       "      <td>получение образования</td>\n",
       "    </tr>\n",
       "    <tr>\n",
       "      <th>8</th>\n",
       "      <td>0</td>\n",
       "      <td>проведение свадьбы</td>\n",
       "    </tr>\n",
       "    <tr>\n",
       "      <th>9</th>\n",
       "      <td>1</td>\n",
       "      <td>операции с недвижимостью</td>\n",
       "    </tr>\n",
       "  </tbody>\n",
       "</table>\n",
       "</div>"
      ],
      "text/plain": [
       "   balls_purpose          purpose_category\n",
       "0              1  операции с недвижимостью\n",
       "1              0    операции с автомобилем\n",
       "2              1  операции с недвижимостью\n",
       "3              0     получение образования\n",
       "4              0        проведение свадьбы\n",
       "5              1  операции с недвижимостью\n",
       "6              1  операции с недвижимостью\n",
       "7              0     получение образования\n",
       "8              0        проведение свадьбы\n",
       "9              1  операции с недвижимостью"
      ]
     },
     "execution_count": 45,
     "metadata": {},
     "output_type": "execute_result"
    }
   ],
   "source": [
    "#создаем словарь категорий\n",
    "balls_column_dict = {'операции с автомобилем':0, 'операции с недвижимостью':1, 'получение образования':0, 'проведение свадьбы':0} \n",
    "data['balls_purpose'] = data['purpose_category'].apply(balls)\n",
    "data[['balls_purpose', 'purpose_category']].head(10) \n",
    "\n",
    "# проверим: добавился ил столбец в датафраме,а так же коррекность заполения нового столбца"
   ]
  },
  {
   "cell_type": "code",
   "execution_count": 46,
   "id": "9aaa0d93",
   "metadata": {},
   "outputs": [
    {
     "data": {
      "text/html": [
       "<div>\n",
       "<style scoped>\n",
       "    .dataframe tbody tr th:only-of-type {\n",
       "        vertical-align: middle;\n",
       "    }\n",
       "\n",
       "    .dataframe tbody tr th {\n",
       "        vertical-align: top;\n",
       "    }\n",
       "\n",
       "    .dataframe thead th {\n",
       "        text-align: right;\n",
       "    }\n",
       "</style>\n",
       "<table border=\"1\" class=\"dataframe\">\n",
       "  <thead>\n",
       "    <tr style=\"text-align: right;\">\n",
       "      <th></th>\n",
       "      <th>debt</th>\n",
       "      <th>count</th>\n",
       "      <th>part_debtors</th>\n",
       "    </tr>\n",
       "    <tr>\n",
       "      <th>balls_purpose</th>\n",
       "      <th></th>\n",
       "      <th></th>\n",
       "      <th></th>\n",
       "    </tr>\n",
       "  </thead>\n",
       "  <tbody>\n",
       "    <tr>\n",
       "      <th>1</th>\n",
       "      <td>780</td>\n",
       "      <td>10751</td>\n",
       "      <td>7.255139</td>\n",
       "    </tr>\n",
       "    <tr>\n",
       "      <th>0</th>\n",
       "      <td>952</td>\n",
       "      <td>10580</td>\n",
       "      <td>8.998110</td>\n",
       "    </tr>\n",
       "  </tbody>\n",
       "</table>\n",
       "</div>"
      ],
      "text/plain": [
       "               debt  count  part_debtors\n",
       "balls_purpose                           \n",
       "1               780  10751      7.255139\n",
       "0               952  10580      8.998110"
      ]
     },
     "execution_count": 46,
     "metadata": {},
     "output_type": "execute_result"
    }
   ],
   "source": [
    "data_purpose_balls = category_calculation(data,'balls_purpose') # вызовим метод category_calculation \n",
    "data_purpose_balls.sort_values(by='part_debtors', ascending=True)\n"
   ]
  },
  {
   "cell_type": "markdown",
   "id": "11154920",
   "metadata": {
    "deletable": false,
    "id": "b4bb2ce6"
   },
   "source": [
    "**Вывод:** \n",
    "\n",
    "Можно сказать, что свою гипотезу то мы подтвердили: чем выше сумма займа, тем отвественне заемщик. Но разрыв по возврату \"дорогих\" займов и \"средних\" займов не большой  - 1,7%.\n",
    "Выдача крупных займов банку более экономически выгодна и судя по нашей таблице это более надежный вид займа. \n",
    "\n",
    "Если анализировать вопрос, о том как разные цели кредита влияют на возврат его в срок, можно подвести следующие итоги:\n",
    "- кредит под операции с недвижимостью является самым надежным, процент не возврата самый низкий - 7,2%, в то время как по другим категориям опредляется в промежутке от 7,9 до 9,3%,\n",
    "- кредиты под оперции с недвижимостью являются самыми часто запрашиваемыми и составляют 50,4% всей выборки,\n",
    "- хуже всего возвращают кредиты, полученные под операции с авто (9,3% несвоевременных возвратов),\n",
    "- так же 2 место в антирейтинге по возврету кредитов занимает группа, где указана цель - на образование.\n",
    " "
   ]
  },
  {
   "cell_type": "markdown",
   "id": "8351d8a5",
   "metadata": {},
   "source": [
    "<a id = 'total_balls'></a>"
   ]
  },
  {
   "cell_type": "markdown",
   "id": "564019c1",
   "metadata": {},
   "source": [
    "***Дополнение к анализу***"
   ]
  },
  {
   "cell_type": "markdown",
   "id": "ac6a0fcc",
   "metadata": {},
   "source": [
    "Наш датафрей пополнился столбцами с баллами. Рассчитаем по каждому клиенту общий балл. \n",
    "\n",
    "Проверим гипотезу: чем выше общий балл, тем надежнее заемщик.\n",
    "\n",
    "Создадим новый столбец `total_balls`.\n",
    "\n",
    "Создадим новый датафрейм с баллами по проанализированным признакам, общим баллом и кредитной историей."
   ]
  },
  {
   "cell_type": "code",
   "execution_count": 47,
   "id": "a771d037",
   "metadata": {},
   "outputs": [
    {
     "data": {
      "text/html": [
       "<div>\n",
       "<style scoped>\n",
       "    .dataframe tbody tr th:only-of-type {\n",
       "        vertical-align: middle;\n",
       "    }\n",
       "\n",
       "    .dataframe tbody tr th {\n",
       "        vertical-align: top;\n",
       "    }\n",
       "\n",
       "    .dataframe thead th {\n",
       "        text-align: right;\n",
       "    }\n",
       "</style>\n",
       "<table border=\"1\" class=\"dataframe\">\n",
       "  <thead>\n",
       "    <tr style=\"text-align: right;\">\n",
       "      <th></th>\n",
       "      <th>balls_children</th>\n",
       "      <th>balls_family_status</th>\n",
       "      <th>balls_total_income</th>\n",
       "      <th>balls_purpose</th>\n",
       "      <th>total_balls</th>\n",
       "      <th>debt</th>\n",
       "    </tr>\n",
       "  </thead>\n",
       "  <tbody>\n",
       "    <tr>\n",
       "      <th>0</th>\n",
       "      <td>0</td>\n",
       "      <td>1</td>\n",
       "      <td>1</td>\n",
       "      <td>1</td>\n",
       "      <td>3</td>\n",
       "      <td>0</td>\n",
       "    </tr>\n",
       "    <tr>\n",
       "      <th>1</th>\n",
       "      <td>0</td>\n",
       "      <td>1</td>\n",
       "      <td>0</td>\n",
       "      <td>0</td>\n",
       "      <td>1</td>\n",
       "      <td>0</td>\n",
       "    </tr>\n",
       "    <tr>\n",
       "      <th>2</th>\n",
       "      <td>1</td>\n",
       "      <td>1</td>\n",
       "      <td>1</td>\n",
       "      <td>1</td>\n",
       "      <td>4</td>\n",
       "      <td>0</td>\n",
       "    </tr>\n",
       "    <tr>\n",
       "      <th>3</th>\n",
       "      <td>0</td>\n",
       "      <td>1</td>\n",
       "      <td>1</td>\n",
       "      <td>0</td>\n",
       "      <td>2</td>\n",
       "      <td>0</td>\n",
       "    </tr>\n",
       "    <tr>\n",
       "      <th>4</th>\n",
       "      <td>1</td>\n",
       "      <td>1</td>\n",
       "      <td>1</td>\n",
       "      <td>0</td>\n",
       "      <td>3</td>\n",
       "      <td>0</td>\n",
       "    </tr>\n",
       "  </tbody>\n",
       "</table>\n",
       "</div>"
      ],
      "text/plain": [
       "   balls_children  balls_family_status  balls_total_income  balls_purpose  \\\n",
       "0               0                    1                   1              1   \n",
       "1               0                    1                   0              0   \n",
       "2               1                    1                   1              1   \n",
       "3               0                    1                   1              0   \n",
       "4               1                    1                   1              0   \n",
       "\n",
       "   total_balls  debt  \n",
       "0            3     0  \n",
       "1            1     0  \n",
       "2            4     0  \n",
       "3            2     0  \n",
       "4            3     0  "
      ]
     },
     "execution_count": 47,
     "metadata": {},
     "output_type": "execute_result"
    }
   ],
   "source": [
    "data['total_balls'] = data['balls_children'] + data['balls_family_status'] + data['balls_total_income'] + data['balls_purpose']\n",
    "data_balls = data[['balls_children', 'balls_family_status','balls_total_income', 'balls_purpose', 'total_balls', 'debt']]\n",
    "data_balls.head()"
   ]
  },
  {
   "cell_type": "code",
   "execution_count": 48,
   "id": "e4a2f845",
   "metadata": {},
   "outputs": [
    {
     "data": {
      "text/plain": [
       "array([3, 1, 4, 2, 0, 5])"
      ]
     },
     "execution_count": 48,
     "metadata": {},
     "output_type": "execute_result"
    }
   ],
   "source": [
    "data['total_balls'].unique() # проверим себя, выведем уникальные значения по столбцу total_balls"
   ]
  },
  {
   "cell_type": "markdown",
   "id": "6e4fe1f6",
   "metadata": {},
   "source": [
    "Максимальное количество баллов, которые мог набрать клиент - `5`, минимальное `0`."
   ]
  },
  {
   "cell_type": "markdown",
   "id": "231aaa0a",
   "metadata": {},
   "source": [
    "Сформирует таблицу с данными для анализа. \n",
    "\n",
    "Вызовем метод `category_calculation`."
   ]
  },
  {
   "cell_type": "code",
   "execution_count": 49,
   "id": "daddc397",
   "metadata": {},
   "outputs": [
    {
     "data": {
      "text/html": [
       "<div>\n",
       "<style scoped>\n",
       "    .dataframe tbody tr th:only-of-type {\n",
       "        vertical-align: middle;\n",
       "    }\n",
       "\n",
       "    .dataframe tbody tr th {\n",
       "        vertical-align: top;\n",
       "    }\n",
       "\n",
       "    .dataframe thead th {\n",
       "        text-align: right;\n",
       "    }\n",
       "</style>\n",
       "<table border=\"1\" class=\"dataframe\">\n",
       "  <thead>\n",
       "    <tr style=\"text-align: right;\">\n",
       "      <th></th>\n",
       "      <th>debt</th>\n",
       "      <th>count</th>\n",
       "      <th>part_debtors</th>\n",
       "    </tr>\n",
       "    <tr>\n",
       "      <th>total_balls</th>\n",
       "      <th></th>\n",
       "      <th></th>\n",
       "      <th></th>\n",
       "    </tr>\n",
       "  </thead>\n",
       "  <tbody>\n",
       "    <tr>\n",
       "      <th>5</th>\n",
       "      <td>22</td>\n",
       "      <td>408</td>\n",
       "      <td>5.392157</td>\n",
       "    </tr>\n",
       "    <tr>\n",
       "      <th>4</th>\n",
       "      <td>226</td>\n",
       "      <td>3386</td>\n",
       "      <td>6.674542</td>\n",
       "    </tr>\n",
       "    <tr>\n",
       "      <th>3</th>\n",
       "      <td>581</td>\n",
       "      <td>7936</td>\n",
       "      <td>7.321069</td>\n",
       "    </tr>\n",
       "    <tr>\n",
       "      <th>2</th>\n",
       "      <td>627</td>\n",
       "      <td>7202</td>\n",
       "      <td>8.705915</td>\n",
       "    </tr>\n",
       "    <tr>\n",
       "      <th>0</th>\n",
       "      <td>13</td>\n",
       "      <td>130</td>\n",
       "      <td>10.000000</td>\n",
       "    </tr>\n",
       "    <tr>\n",
       "      <th>1</th>\n",
       "      <td>263</td>\n",
       "      <td>2269</td>\n",
       "      <td>11.591009</td>\n",
       "    </tr>\n",
       "  </tbody>\n",
       "</table>\n",
       "</div>"
      ],
      "text/plain": [
       "             debt  count  part_debtors\n",
       "total_balls                           \n",
       "5              22    408      5.392157\n",
       "4             226   3386      6.674542\n",
       "3             581   7936      7.321069\n",
       "2             627   7202      8.705915\n",
       "0              13    130     10.000000\n",
       "1             263   2269     11.591009"
      ]
     },
     "execution_count": 49,
     "metadata": {},
     "output_type": "execute_result"
    }
   ],
   "source": [
    "data_total_balls_category = category_calculation(data,'total_balls') # вызовим метод category_calculation \n",
    "data_total_balls_category.sort_values(by='part_debtors', ascending=True)\n"
   ]
  },
  {
   "cell_type": "markdown",
   "id": "2867e43d",
   "metadata": {},
   "source": [
    "Рассчитаем долю каждой категории (суммы баллов) в общей выборке(в %)"
   ]
  },
  {
   "cell_type": "code",
   "execution_count": 50,
   "id": "32e59212",
   "metadata": {},
   "outputs": [
    {
     "data": {
      "text/plain": [
       "total_balls\n",
       "0     0.609442\n",
       "1    10.637101\n",
       "2    33.763068\n",
       "3    37.204069\n",
       "4    15.873611\n",
       "5     1.912709\n",
       "Name: part_count, dtype: float64"
      ]
     },
     "execution_count": 50,
     "metadata": {},
     "output_type": "execute_result"
    }
   ],
   "source": [
    "total = data_total_balls_category['count'].sum()\n",
    "data_total_balls_category['part_count'] = data_total_balls_category['count']/total*100\n",
    "data_total_balls_category['part_count']"
   ]
  },
  {
   "cell_type": "markdown",
   "id": "66851cda",
   "metadata": {},
   "source": [
    "Гипотеза подтверждается: те клиенты, что набрали максимальное количество баллов (5 баллов) возвращают кредит вовремя с большей вероятностью (5,4%), чем другие группы, но их доля в общей выборке мала (всего 1,9%).\n",
    "\n",
    "По мере снижения баллов растет размер несвоевременных возвратов кредитов.\n",
    "\n",
    "Группа заемщиков с 0 и 1 баллами согласно нашей гипотезе показываеют самый высокий процент \"ненадежности\" - 10,0% и 11,6%."
   ]
  },
  {
   "cell_type": "markdown",
   "id": "f4a19832",
   "metadata": {
    "deletable": false,
    "editable": false,
    "id": "09c3ac4c"
   },
   "source": [
    "#### 3.5 Приведите возможные причины появления пропусков в исходных данных."
   ]
  },
  {
   "cell_type": "markdown",
   "id": "8ae7fb8e",
   "metadata": {
    "deletable": false,
    "id": "9da2ceda"
   },
   "source": [
    "*Ответ:* \n",
    "\n",
    "В предобработке данных решили вопрос с пропусками данных в столбцах `days_employed` и `total_income`.\n",
    "Общая информация о данных таблицы показала, что всего строк в таблице 21525, при этом в столбцах `days_employed` и `total_income` заполнены только 19351 строчка. В каждом из этих столбцов недостает 2174 записи.\n",
    "\n",
    "Судя по количеству недостающих данных (ровно по 2174 в каждом из столбцов), можно предположить, что отсутствие данных связано с человеческим фактором: \n",
    "- или оператор не внес (не запросил) данные о размере дохода и стаже заемщика, \n",
    "- или может какое-то отделение банка не собирает эти данные. \n",
    "\n",
    "Но данные по столбцу `total_incom` несут очень нужную информацию. Для многих банков ключевыми факторами влияющим на решение о выдаче кридита являются доход и стаж. Думаю такие пропуски от оператов набора и переноса данных недопустимы.\n",
    "\n",
    "Скорее всего отсутствие данных может произойти по технической причине:\n",
    "- это сбой работы самой БД или при выгрузке БП; \n",
    "- сбой работы приложений, при внесении данных в базу; \n",
    "- неудачная миграция данных в процессе переноса данных.\n",
    "\n",
    "Еще нужно отметить следующее:\n",
    "- пропуски составляют 10% от выборки (2174/21525) - процент не малый и может повлиять на конечный резальтат анализа,\n",
    "- в пропусках присутствуют данные о 8% (170/2174) несвоевременно возвращенных кредитов,\n",
    "- если рассматривать всю выборку, то процент не вовремя возвращенных кредитов составляет тоже 8% (1741/21525).\n",
    "\n",
    "Можно сделать вывод, что при удалении строк с пропусками, результат анализа не изменился бы.\n",
    " "
   ]
  },
  {
   "cell_type": "markdown",
   "id": "76a69025",
   "metadata": {
    "deletable": false,
    "editable": false,
    "id": "7b0487d6"
   },
   "source": [
    "#### 3.6 Объясните, почему заполнить пропуски медианным значением — лучшее решение для количественных переменных."
   ]
  },
  {
   "cell_type": "markdown",
   "id": "203b193c",
   "metadata": {
    "deletable": false,
    "id": "7ecf2b8e"
   },
   "source": [
    "*Ответ:* \n",
    "\n",
    "Избавится в выборке от пустых значений можно несколькими способами:\n",
    "\n",
    "- оставить все как есть,\n",
    "\n",
    "*С чем столкнемся:*\n",
    "*Пустые значения будут мешать операциям с ячейками и искажать данные.* \n",
    "\n",
    "*Например: для подсчета среднего дохода по определенной группе, нужно общий доход (пустые в общий доход не войдут) разделить на количество заемщиков по группе (а в количество по группе войдут). Таким образом среднее значение будет отличаться (ниже) чем реальное.*\n",
    "\n",
    "- удалить строки с пустыми значениями,\n",
    "\n",
    "*Это сделать можно, если нет никаких других подходящих способов по заполнению пустых значений в этих столбцах и удаление такого количества данных не скажется на общий результат.*\n",
    "\n",
    "*Как ранее указывалось – мы могли бы использовать такой способ, так как на общий результат удаленные строки не особо бы повлияли.*\n",
    "\n",
    "- заменить значения на расчетные, исходя из других данных выборки.\n",
    "\n",
    "*Пустые значения можно заменить на среднеарифметическое значение, медиану, моду, максимальное или минимальное и тд. Необходимо определиться, какое из приведенных статистических значений лучше заменит пропуски.* \n",
    "\n",
    "*Например :*\n",
    "\n",
    "-*среднеарифметическое значение чувствительно к выбросам в выборке и не всегда отображает реальность. Если выборка имеет нормальное распределение, то можно использовать среднеарифметическое значение,*\n",
    "\n",
    "-*медианное значение не чувствительно к выбросам, не искажает картину распределения по пользователям,* \n",
    "\n",
    "-*среднее арифметическое может совпадать с медианой только в симметричных выборках, а это на практике встречается редко.*\n",
    "\n",
    "В замене пропущенных значений столбцов мы использовали медианное значение, так в нашем случае его использование можно считать оптимальным: в результате\n",
    "\n",
    "-не удаляя строки с пропусками мы сохранили данные столбцов (где данные не отсутствуют),\n",
    "\n",
    "-не внесли искажения в общую статистику из-за пустых значений в столбцах.\n",
    "\n",
    "Пример [Рассчет среднеарифметического](#mean)\n"
   ]
  },
  {
   "cell_type": "markdown",
   "id": "fcfa7b70",
   "metadata": {
    "deletable": false,
    "editable": false,
    "id": "6db5255a"
   },
   "source": [
    "### Шаг 4: общий вывод."
   ]
  },
  {
   "cell_type": "markdown",
   "id": "20c0edda",
   "metadata": {
    "deletable": false,
    "id": "bad65432"
   },
   "source": [
    "Целью проведенной работы является исследование о возможном влиянии семейное положения и количества детей клиентов банка на факт погашения кредита в срок. \n",
    "Банки для мониторинга надежности рассматривают как социальные, так и экономические аспекты жизни заемщика. Социальное положение заемщика рассматривается системой банковского  скоринга так же с точки зрения финансовой стабильности. Так, студентам, пенсионерам, безработным и семьям с маленькими детьми получить заём сложнее, ведь их материальное положение бывает непредсказуемым.\n",
    "\n",
    "Банк рассматривает следующие основные показатели по каждому заемщику:\n",
    "\n",
    "- пол: женщины аккуратнее платят по кредитам, чем мужчины.\n",
    "- возраст: чем старше заемщик, тем он надежнее, кроме студентов и пенсионеров. Их банки считают более рискованными заемщиками и потому рассматриваются как менее желанные заемщики.\n",
    "- профессия – некоторые профессии считаются более стабильными\n",
    "- образование: люди, у которых есть профессиональное образование, обычно имеют стабильный доход.\n",
    "- стаж: маленький стаж на текущей работе может снизить балл, те большой стаж работы и длительное пребывание на последнем месте подтверждает надежность заемщика.\n",
    "- доход – чем выше, тем лучше. Банки учитывают не только зарплату, но другие активы: вклады в банках, дивиденды от акций.\n",
    "- пассивы(эти данные предоставлены не были): наличие недвижимости — всегда преимущество, даже если залог банку не нужен.\n",
    "- срок, на который оформляется заем (эти данные предоставлены не были) – можно подстраховаться и запросить максимально возможный период, но при этом есть вероятность, что банк заподозрит клиента в неуверенности касательно выплат.\n",
    "\n",
    "В целях поступившего задания, а именно: подготовить аналитические данные для построения модели кредитного скоринга клиентов, была проанализирована выборка текущих клиентов по предложенным параметрам.\n",
    "\n",
    "Для достижения цели проекта, решили следующие задачи (этапы разработки):\n",
    "\n",
    "1.  Оценка входных данных (размер выборки; столбцы, их содержание и типы данных; наличие пустых(незаполненных) элементов таблицы, их количество и причины возникновения.\n",
    "    Всего в таблице 12 столбцов, встречаются следующие типы данных у столбцов: object, int, float. Строк в таблице - 21525.     Столбцы содержат следующую информацию о клиенте:количество детей в семье, общий трудовой стаж в днях, возраст клиента в годах, уровень образования клиента, семейное положение, пол клиента, тип занятости, имел ли задолженность по возврату кредитов, ежемесячный доход, цель получения кредита. \n",
    "    \n",
    "    \n",
    "2.\tВыявление пропусков и их замена корректными значениями.    \n",
    "    Количество значений в двух столбцах (стаж и доход) отличается. Это говорит о том, что в данных есть пропущенные значения. В строках, где отсутствуют данные в столбце стаж, отсутствуют данные и по доходу.    \n",
    "    Вероятнее всего такие пропуски появились по техническим причинам, потому что человвеческий фактор в пропуска таких важных данных недопустим. Является ли такая ошибка случайностю или нет, говорить сложно, все свои соображения о выявленных закономерностях необходимо довести до тех. отдела или разработчиков.\n",
    "    Пропущенные значения в двух столбцах стаж и доход заменены медианными значениями по типам занятости. Доказали эффективность исползования медианы в таких данных.\n",
    "    \n",
    "    \n",
    "3.\tОценка  и обработка аномалий, определение причин возникновения.\n",
    "    Анамалии обнаружены в столбеце стаж: 75%  значений -отрицательные (заменили на положительные), для группы по типу занятости - пенсионеры кол-во дней трудового стажа исчисляются в 1000 лет (значения анамальные, но их не трогали, возможно в этом есть какая-то логика, надо спросить у разработчиков).\n",
    "    Анамальные значения показал столбец дети: 20 детей и -1 ребенок, строки были удалены. Могли строки не удалять,а  земенить 20 на 2 (неверняка подразумевали 2 ребенка) и -1 на 0 детей (подразумевалось отсутсвие детей).\n",
    "    \n",
    "    \n",
    "4.  Замена типов данных.\n",
    "    Заменили вещественный тип данных по столбцу доход на целочисленный (особая точность нам не нужна, хотя задать разработчикам вопрос - почему такое количество знаков после целой части, имеет смысл.) \n",
    "    \n",
    "    \n",
    "5.\tВыявление неявных дубликатов, приведение данных в один вид и удаление дубликатов. \n",
    "    В столбце образование выявлены одинаковые значения(уникальные), записанные в разных регистрах. Привели записи в этом столбце к одному регистку - выявили неявные дубликаты.\n",
    "    После удалили все дубликаты из таблицы (71 строка).\n",
    "    \n",
    "    \n",
    "6.\tЛемматизация целей кредита и выявление категорий.\n",
    "    По двум столбцам цель кредита и доход данные разбили на категории, при этом устранили (путем замены) повторяющие в разных вариациях данные.\n",
    "    \n",
    "    \n",
    "7.\tВыдвинули гипотезы.\n",
    "\n",
    "\n",
    "8.  Ввели понятие баллы.\n",
    "    Обычно банки используют одновременно несколько скоринговых систем — для разных категорий заемщиков или видов кредитов. Каждая характеристика заемщика оценивается в баллах. Оценив все параметры, программа высчитывает общий скоринговый балл заемщика. У самых надежных клиентов — самый высокий балл и максимальные шансы получить кредит на выгодных условиях.\n",
    "\n",
    "    Мы предложили свою бальную систему для скоринга.\n",
    "\n",
    "    Детальную информацию по результатам бальной системы можно посмотреть в разделе с исследованиями по ссылке [анализ \"Баллы\"](#total_balls)\n",
    "    \n",
    "    \n",
    "9.\tПровели сводный анализа для подтверждение каждой гипотезы. \n",
    "    Составлены выводы по каждому вопросу. На этапе разбивки данных на категории были обнаружены явная несбалансированность выборки по рассматриваемым столбцам-признакам. Для устранения или минимизации влияния на результат несбалансированности выборки, попытались укрупнить группы для категориальных столбцов-признаков и применили разбивку на раные группы по численной колонке-признаке. \n",
    "    \n",
    "    В рамках анализа были проверены следующие гипотезы:\n",
    "\n",
    "    **Есть ли зависимость между количеством детей и возвратом кредита в срок?**\n",
    "\n",
    "    В рамках данного исследования группы клиентов с 4 и 5 детьми - оказались малочисленными и показали противоречивые данные.\n",
    "    Категория клиентов без детей оказалась самой многочисленной, а процент задержек по кредиту самый низкий - 7.54%. Самый высокий процент задержек по оплатам оказался у клиентов с двумя детьми и составляет 9.45%.\n",
    "    \n",
    "    ! Идеальным клиентом считается: семья без детей. Худшим клиентом является: семья  с 4 и более- детьми. \n",
    "\n",
    "    Детальную информацию по данной гипотезе можно посмотреть в разделе с исследованиями по ссылке [анализ \"Дети\"](#children)\n",
    "\n",
    "    **Есть ли зависимость между семейным положением и возвратом кредита в срок?**\n",
    "\n",
    "    В результате проверки гипотезы выявлена следующая закономерность - меньше всего просрочек по кредитам у вдов/вдовцев - 6.62%, а больше всего у холостых клиентов - 9.76%. Самой крупной категорией являются клиенты состоящие в браке - 57,48% от всей выборки, процент просрочек по данной категории составляет 7.56%\n",
    "    \n",
    "    ! Идеальным клиентом считается: вдовец. Худшим клиентом является: холостые. \n",
    "\n",
    "    Детальную информацию по данной гипотезе можно посмотреть в разделе с исследованиями по ссылке [анализ \"Семья\"](#family_status)\n",
    "\n",
    "    **Есть ли зависимость между уровнем дохода и возвратом кредита в срок?**\n",
    "\n",
    "    Исследование данной гипотезы привели к следующему - меньше всего просрочек по кредитам у клиентов с уровнем дохода от 30 000 до 50 000 руб в месяц - 6.02%, больше всего у клиентов с уровнем дохода от 50 000 до 200 000 руб в месяц - 8.50%, при том что эта категория является наиболее многочисленной в выборке - 74,64%.\n",
    "    Категории клиентов с низкими значениями доходов (ниже 30 000 руб) или высокими (более 1 000 000 руб) мало представлены в выборке и показывают не самые лучшие результаты (9% и 8% несвоевременного возврата соотвественно).\n",
    "    \n",
    "    ! Идеальным клиентом считается: человек c высоким доходом (более 195,8 тыс) . Худшим клиентом является: люди с средним доходом (от 107,5 тыс до 142,5 тыс) \n",
    "\n",
    "    Детальную информацию по данной гипотезе можно посмотреть в разделе с исследованиями по ссылке [анализ \"Доход\"](#total_income)\n",
    "\n",
    "    **Как разные цели кредита влияют на его возврат в срок?**\n",
    "\n",
    "    Результаты анализа гипотезы говорят о следующем - меньше всего просрочек по кредитам на недвижимость - 7.26%, больше всего по займам на автомобиль - 9.35%. Самой крупной категорией в выборке по займам являются клиенты по операциям с недвижимостью - 50,40%.\n",
    "    \n",
    "    ! Идеальным клиентом считается: человек желающий получить кредит для осуществления операций с недвижимостью . Худшим клиентом является: заемщик с целью купить авто. \n",
    "\n",
    "    Детальную информацию по данной гипотезе можно посмотреть в разделе с исследованиями по ссылке [анализ \"Цель\"](#purpose)\n",
    "    \n",
    "    **Общий вывод - семейный статус влияет на вероятность платежей по кредиту в срок - люди, бывший в браке чаще плятят в срок чем те, кто не бывали в браке, причем разведенные и овдовевшие платят в срок чаще, чем люди в браке. Чем больше детей, тем чаще платят не в срок, бездетные реже просрачивают оплату.**\n",
    "    \n",
    "    \n",
    "10.  Сводный портрет \"хорошего\" и \"плохого\" заемщика.\n",
    "     Идеального кандидат на возврат кредита по данным этой выборки без учета возраста и образования: Человек вдовствующий, не имеющий детей, с доходом более 196 тыс, который планирует операции с жилой недвижимостью. Это человек, оставщийся один, без поддержки и детей, обладающий жизненным опытом, четко понимающий, что он может расчитывать только на себя и в срок вернуть кредит.\n",
    "     Кандидат с наименьшой вероятностью выдачи кредита: Холостой человек, живущий один, с средним доходом от 107 тыс до 143 тыс тысяч, желающий купить машину в кредит.\n",
    "\n",
    "\n",
    "11. Некоторые дополнения и комментарии. \n",
    "\n",
    "    Можно было бы так же рассмотреть влияние показателя возраст на надежность заемщика, он дает вполне логическую привязку к жизненным обстоятельствам и уровню ответственности клиентов.\n",
    "\n",
    "    Уровень образования мог так же быть интересным параметром для рассмотрения надежности клиентов, банки обращают на этот показатель внимание.\n",
    "\n",
    "    Анализ совокупности нескольких показателей позволи бы определить более точно:\n",
    "\n",
    "- какая группа, с точки зрения задолженности порождает наибольшие финансовые проблемы,\n",
    "- какие показатели имеют большее влияния, а какие меньше влияют,\n",
    "- какие показатели с совокупности с другими оказывают наибольшее влияние и т.д.\n",
    "\n",
    "\n",
    "12.\tСоставили общий вывод."
   ]
  }
 ],
 "metadata": {
  "ExecuteTimeLog": [
   {
    "duration": 524,
    "start_time": "2023-06-06T08:49:16.679Z"
   },
   {
    "duration": 25,
    "start_time": "2023-06-06T08:49:17.205Z"
   },
   {
    "duration": 20,
    "start_time": "2023-06-06T08:49:17.232Z"
   },
   {
    "duration": 11,
    "start_time": "2023-06-06T08:49:17.255Z"
   },
   {
    "duration": 34,
    "start_time": "2023-06-06T08:49:17.268Z"
   },
   {
    "duration": 4,
    "start_time": "2023-06-06T08:49:17.304Z"
   },
   {
    "duration": 9,
    "start_time": "2023-06-06T08:49:17.341Z"
   },
   {
    "duration": 5,
    "start_time": "2023-06-06T08:49:17.352Z"
   },
   {
    "duration": 15,
    "start_time": "2023-06-06T08:49:17.358Z"
   },
   {
    "duration": 6,
    "start_time": "2023-06-06T08:49:17.376Z"
   },
   {
    "duration": 65,
    "start_time": "2023-06-06T08:49:17.384Z"
   },
   {
    "duration": 14,
    "start_time": "2023-06-06T08:49:17.451Z"
   },
   {
    "duration": 5,
    "start_time": "2023-06-06T08:49:17.468Z"
   },
   {
    "duration": 14,
    "start_time": "2023-06-06T08:49:17.474Z"
   },
   {
    "duration": 20,
    "start_time": "2023-06-06T08:49:17.490Z"
   },
   {
    "duration": 47,
    "start_time": "2023-06-06T08:49:17.512Z"
   },
   {
    "duration": 4,
    "start_time": "2023-06-06T08:49:17.561Z"
   },
   {
    "duration": 16,
    "start_time": "2023-06-06T08:49:17.567Z"
   },
   {
    "duration": 9,
    "start_time": "2023-06-06T08:49:17.585Z"
   },
   {
    "duration": 7,
    "start_time": "2023-06-06T08:49:17.596Z"
   },
   {
    "duration": 40,
    "start_time": "2023-06-06T08:49:17.605Z"
   },
   {
    "duration": 5,
    "start_time": "2023-06-06T08:49:17.647Z"
   },
   {
    "duration": 8,
    "start_time": "2023-06-06T08:49:17.654Z"
   },
   {
    "duration": 8,
    "start_time": "2023-06-06T08:49:17.664Z"
   },
   {
    "duration": 5,
    "start_time": "2023-06-06T08:49:17.674Z"
   },
   {
    "duration": 4,
    "start_time": "2023-06-06T12:11:33.753Z"
   },
   {
    "duration": 13,
    "start_time": "2023-06-06T12:11:36.543Z"
   },
   {
    "duration": 8,
    "start_time": "2023-06-06T13:02:35.930Z"
   },
   {
    "duration": 16,
    "start_time": "2023-06-06T13:44:31.924Z"
   },
   {
    "duration": 27,
    "start_time": "2023-06-06T20:11:17.442Z"
   },
   {
    "duration": 25,
    "start_time": "2023-06-06T20:12:34.798Z"
   },
   {
    "duration": 32,
    "start_time": "2023-06-06T20:13:40.426Z"
   },
   {
    "duration": 1674,
    "start_time": "2023-06-06T20:14:39.799Z"
   },
   {
    "duration": 15,
    "start_time": "2023-06-06T20:14:57.307Z"
   },
   {
    "duration": 10,
    "start_time": "2023-06-06T20:15:46.361Z"
   },
   {
    "duration": 14,
    "start_time": "2023-06-06T20:16:13.440Z"
   },
   {
    "duration": 11,
    "start_time": "2023-06-06T20:16:35.462Z"
   },
   {
    "duration": 13,
    "start_time": "2023-06-06T20:16:50.909Z"
   },
   {
    "duration": 11,
    "start_time": "2023-06-06T20:17:20.613Z"
   },
   {
    "duration": 14,
    "start_time": "2023-06-06T20:18:16.721Z"
   },
   {
    "duration": 14,
    "start_time": "2023-06-06T20:18:31.303Z"
   },
   {
    "duration": 12,
    "start_time": "2023-06-06T20:27:51.962Z"
   },
   {
    "duration": 11,
    "start_time": "2023-06-06T20:28:42.790Z"
   },
   {
    "duration": 11,
    "start_time": "2023-06-06T20:29:30.479Z"
   },
   {
    "duration": 12,
    "start_time": "2023-06-06T20:42:49.124Z"
   },
   {
    "duration": 13,
    "start_time": "2023-06-06T20:43:03.202Z"
   },
   {
    "duration": 11,
    "start_time": "2023-06-06T20:44:34.224Z"
   },
   {
    "duration": 14,
    "start_time": "2023-06-06T20:45:58.329Z"
   },
   {
    "duration": 11,
    "start_time": "2023-06-06T20:47:05.540Z"
   },
   {
    "duration": 12,
    "start_time": "2023-06-06T20:47:54.326Z"
   },
   {
    "duration": 14,
    "start_time": "2023-06-06T20:49:08.302Z"
   },
   {
    "duration": 469,
    "start_time": "2023-06-06T20:49:24.183Z"
   },
   {
    "duration": 24,
    "start_time": "2023-06-06T20:49:24.654Z"
   },
   {
    "duration": 15,
    "start_time": "2023-06-06T20:49:24.679Z"
   },
   {
    "duration": 9,
    "start_time": "2023-06-06T20:49:24.696Z"
   },
   {
    "duration": 58,
    "start_time": "2023-06-06T20:49:24.707Z"
   },
   {
    "duration": 3,
    "start_time": "2023-06-06T20:49:24.767Z"
   },
   {
    "duration": 16,
    "start_time": "2023-06-06T20:49:24.772Z"
   },
   {
    "duration": 5,
    "start_time": "2023-06-06T20:49:24.789Z"
   },
   {
    "duration": 11,
    "start_time": "2023-06-06T20:49:24.796Z"
   },
   {
    "duration": 4,
    "start_time": "2023-06-06T20:49:24.809Z"
   },
   {
    "duration": 58,
    "start_time": "2023-06-06T20:49:24.815Z"
   },
   {
    "duration": 10,
    "start_time": "2023-06-06T20:49:24.875Z"
   },
   {
    "duration": 4,
    "start_time": "2023-06-06T20:49:24.887Z"
   },
   {
    "duration": 12,
    "start_time": "2023-06-06T20:49:24.893Z"
   },
   {
    "duration": 46,
    "start_time": "2023-06-06T20:49:24.907Z"
   },
   {
    "duration": 20,
    "start_time": "2023-06-06T20:49:24.955Z"
   },
   {
    "duration": 4,
    "start_time": "2023-06-06T20:49:24.977Z"
   },
   {
    "duration": 15,
    "start_time": "2023-06-06T20:49:24.983Z"
   },
   {
    "duration": 14,
    "start_time": "2023-06-06T20:49:25.000Z"
   },
   {
    "duration": 26,
    "start_time": "2023-06-06T20:49:25.016Z"
   },
   {
    "duration": 29,
    "start_time": "2023-06-06T20:49:25.044Z"
   },
   {
    "duration": 22,
    "start_time": "2023-06-06T20:49:25.075Z"
   },
   {
    "duration": 35,
    "start_time": "2023-06-06T20:49:25.099Z"
   },
   {
    "duration": 8,
    "start_time": "2023-06-06T20:49:25.136Z"
   },
   {
    "duration": 19,
    "start_time": "2023-06-06T20:49:25.145Z"
   },
   {
    "duration": 20,
    "start_time": "2023-06-06T20:49:25.166Z"
   },
   {
    "duration": 16,
    "start_time": "2023-06-06T20:49:25.188Z"
   },
   {
    "duration": 5,
    "start_time": "2023-06-06T20:49:25.206Z"
   },
   {
    "duration": 30,
    "start_time": "2023-06-06T20:49:25.212Z"
   },
   {
    "duration": 70,
    "start_time": "2023-06-06T20:58:00.347Z"
   },
   {
    "duration": 750,
    "start_time": "2023-06-07T06:42:45.442Z"
   },
   {
    "duration": 23,
    "start_time": "2023-06-07T06:42:46.194Z"
   },
   {
    "duration": 18,
    "start_time": "2023-06-07T06:42:46.219Z"
   },
   {
    "duration": 9,
    "start_time": "2023-06-07T06:42:46.239Z"
   },
   {
    "duration": 49,
    "start_time": "2023-06-07T06:42:46.250Z"
   },
   {
    "duration": 4,
    "start_time": "2023-06-07T06:42:46.301Z"
   },
   {
    "duration": 14,
    "start_time": "2023-06-07T06:42:46.307Z"
   },
   {
    "duration": 22,
    "start_time": "2023-06-07T06:42:46.322Z"
   },
   {
    "duration": 10,
    "start_time": "2023-06-07T06:42:46.345Z"
   },
   {
    "duration": 5,
    "start_time": "2023-06-07T06:42:46.358Z"
   },
   {
    "duration": 35,
    "start_time": "2023-06-07T06:42:46.364Z"
   },
   {
    "duration": 10,
    "start_time": "2023-06-07T06:42:46.400Z"
   },
   {
    "duration": 33,
    "start_time": "2023-06-07T06:42:46.412Z"
   },
   {
    "duration": 16,
    "start_time": "2023-06-07T06:42:46.447Z"
   },
   {
    "duration": 21,
    "start_time": "2023-06-07T06:42:46.465Z"
   },
   {
    "duration": 19,
    "start_time": "2023-06-07T06:42:46.488Z"
   },
   {
    "duration": 5,
    "start_time": "2023-06-07T06:42:46.509Z"
   },
   {
    "duration": 33,
    "start_time": "2023-06-07T06:42:46.516Z"
   },
   {
    "duration": 6,
    "start_time": "2023-06-07T06:42:46.550Z"
   },
   {
    "duration": 6,
    "start_time": "2023-06-07T06:42:46.558Z"
   },
   {
    "duration": 16,
    "start_time": "2023-06-07T06:42:46.565Z"
   },
   {
    "duration": 6,
    "start_time": "2023-06-07T06:42:46.583Z"
   },
   {
    "duration": 20,
    "start_time": "2023-06-07T06:42:46.591Z"
   },
   {
    "duration": 6,
    "start_time": "2023-06-07T06:42:46.613Z"
   },
   {
    "duration": 14,
    "start_time": "2023-06-07T06:42:46.642Z"
   },
   {
    "duration": 16,
    "start_time": "2023-06-07T06:42:46.658Z"
   },
   {
    "duration": 17,
    "start_time": "2023-06-07T06:42:46.676Z"
   },
   {
    "duration": 2,
    "start_time": "2023-06-07T06:42:46.696Z"
   },
   {
    "duration": 6,
    "start_time": "2023-06-07T06:42:46.700Z"
   },
   {
    "duration": 13,
    "start_time": "2023-06-07T06:43:05.740Z"
   },
   {
    "duration": 78,
    "start_time": "2023-06-07T08:49:15.494Z"
   },
   {
    "duration": 14,
    "start_time": "2023-06-07T08:51:16.197Z"
   },
   {
    "duration": 10,
    "start_time": "2023-06-07T08:55:31.608Z"
   },
   {
    "duration": 10,
    "start_time": "2023-06-07T08:56:15.191Z"
   },
   {
    "duration": 10,
    "start_time": "2023-06-07T08:56:35.544Z"
   },
   {
    "duration": 14,
    "start_time": "2023-06-07T08:56:43.608Z"
   },
   {
    "duration": 504,
    "start_time": "2023-06-07T08:57:17.160Z"
   },
   {
    "duration": 27,
    "start_time": "2023-06-07T08:57:17.667Z"
   },
   {
    "duration": 20,
    "start_time": "2023-06-07T08:57:17.696Z"
   },
   {
    "duration": 27,
    "start_time": "2023-06-07T08:57:17.718Z"
   },
   {
    "duration": 42,
    "start_time": "2023-06-07T08:57:17.746Z"
   },
   {
    "duration": 3,
    "start_time": "2023-06-07T08:57:17.790Z"
   },
   {
    "duration": 16,
    "start_time": "2023-06-07T08:57:17.794Z"
   },
   {
    "duration": 5,
    "start_time": "2023-06-07T08:57:17.811Z"
   },
   {
    "duration": 24,
    "start_time": "2023-06-07T08:57:17.818Z"
   },
   {
    "duration": 4,
    "start_time": "2023-06-07T08:57:17.846Z"
   },
   {
    "duration": 40,
    "start_time": "2023-06-07T08:57:17.852Z"
   },
   {
    "duration": 9,
    "start_time": "2023-06-07T08:57:17.894Z"
   },
   {
    "duration": 7,
    "start_time": "2023-06-07T08:57:17.904Z"
   },
   {
    "duration": 28,
    "start_time": "2023-06-07T08:57:17.913Z"
   },
   {
    "duration": 20,
    "start_time": "2023-06-07T08:57:17.944Z"
   },
   {
    "duration": 18,
    "start_time": "2023-06-07T08:57:17.966Z"
   },
   {
    "duration": 4,
    "start_time": "2023-06-07T08:57:17.986Z"
   },
   {
    "duration": 17,
    "start_time": "2023-06-07T08:57:17.991Z"
   },
   {
    "duration": 33,
    "start_time": "2023-06-07T08:57:18.010Z"
   },
   {
    "duration": 4,
    "start_time": "2023-06-07T08:57:18.045Z"
   },
   {
    "duration": 16,
    "start_time": "2023-06-07T08:57:18.051Z"
   },
   {
    "duration": 4,
    "start_time": "2023-06-07T08:57:18.069Z"
   },
   {
    "duration": 23,
    "start_time": "2023-06-07T08:57:18.075Z"
   },
   {
    "duration": 9,
    "start_time": "2023-06-07T08:57:18.100Z"
   },
   {
    "duration": 108,
    "start_time": "2023-06-07T08:57:18.110Z"
   },
   {
    "duration": 0,
    "start_time": "2023-06-07T08:57:18.221Z"
   },
   {
    "duration": 0,
    "start_time": "2023-06-07T08:57:18.222Z"
   },
   {
    "duration": 0,
    "start_time": "2023-06-07T08:57:18.224Z"
   },
   {
    "duration": 0,
    "start_time": "2023-06-07T08:57:18.226Z"
   },
   {
    "duration": 4,
    "start_time": "2023-06-07T08:58:44.045Z"
   },
   {
    "duration": 9,
    "start_time": "2023-06-07T08:58:48.546Z"
   },
   {
    "duration": 3,
    "start_time": "2023-06-07T09:54:34.983Z"
   },
   {
    "duration": 31,
    "start_time": "2023-06-07T09:54:36.944Z"
   },
   {
    "duration": 13,
    "start_time": "2023-06-07T10:04:11.008Z"
   },
   {
    "duration": 16,
    "start_time": "2023-06-07T10:14:51.349Z"
   },
   {
    "duration": 39,
    "start_time": "2023-06-07T10:25:41.715Z"
   },
   {
    "duration": 19,
    "start_time": "2023-06-07T10:26:06.568Z"
   },
   {
    "duration": 19,
    "start_time": "2023-06-07T10:26:22.890Z"
   },
   {
    "duration": 7,
    "start_time": "2023-06-07T10:31:50.620Z"
   },
   {
    "duration": 13,
    "start_time": "2023-06-07T10:34:48.968Z"
   },
   {
    "duration": 13,
    "start_time": "2023-06-07T10:36:03.169Z"
   },
   {
    "duration": 21,
    "start_time": "2023-06-07T10:45:40.405Z"
   },
   {
    "duration": 16,
    "start_time": "2023-06-07T10:45:48.004Z"
   },
   {
    "duration": 24,
    "start_time": "2023-06-07T11:02:03.397Z"
   },
   {
    "duration": 18,
    "start_time": "2023-06-07T11:04:38.169Z"
   },
   {
    "duration": 173,
    "start_time": "2023-06-07T11:21:59.938Z"
   },
   {
    "duration": 8,
    "start_time": "2023-06-07T11:22:13.356Z"
   },
   {
    "duration": 24,
    "start_time": "2023-06-07T11:50:25.383Z"
   },
   {
    "duration": 24,
    "start_time": "2023-06-07T11:50:42.784Z"
   },
   {
    "duration": 26,
    "start_time": "2023-06-07T11:50:52.930Z"
   },
   {
    "duration": 16,
    "start_time": "2023-06-07T11:51:51.858Z"
   },
   {
    "duration": 15,
    "start_time": "2023-06-07T11:52:27.651Z"
   },
   {
    "duration": 4,
    "start_time": "2023-06-07T12:09:20.945Z"
   },
   {
    "duration": 31,
    "start_time": "2023-06-07T12:09:23.922Z"
   },
   {
    "duration": 4,
    "start_time": "2023-06-07T12:09:52.548Z"
   },
   {
    "duration": 24,
    "start_time": "2023-06-07T12:09:55.401Z"
   },
   {
    "duration": 3,
    "start_time": "2023-06-07T12:13:15.494Z"
   },
   {
    "duration": 20,
    "start_time": "2023-06-07T12:13:17.674Z"
   },
   {
    "duration": 14,
    "start_time": "2023-06-07T12:13:43.105Z"
   },
   {
    "duration": 27,
    "start_time": "2023-06-07T12:16:14.016Z"
   },
   {
    "duration": 14,
    "start_time": "2023-06-07T12:17:45.570Z"
   },
   {
    "duration": 25,
    "start_time": "2023-06-07T12:19:30.339Z"
   },
   {
    "duration": 21,
    "start_time": "2023-06-07T12:19:57.236Z"
   },
   {
    "duration": 20,
    "start_time": "2023-06-07T12:20:24.891Z"
   },
   {
    "duration": 33,
    "start_time": "2023-06-07T12:21:15.111Z"
   },
   {
    "duration": 14,
    "start_time": "2023-06-07T12:21:50.222Z"
   },
   {
    "duration": 18,
    "start_time": "2023-06-07T12:56:58.170Z"
   },
   {
    "duration": 8,
    "start_time": "2023-06-07T13:06:52.434Z"
   },
   {
    "duration": 10,
    "start_time": "2023-06-07T13:08:10.605Z"
   },
   {
    "duration": 159,
    "start_time": "2023-06-07T13:08:27.612Z"
   },
   {
    "duration": 7,
    "start_time": "2023-06-07T13:08:31.831Z"
   },
   {
    "duration": 21,
    "start_time": "2023-06-07T13:23:06.902Z"
   },
   {
    "duration": 16,
    "start_time": "2023-06-07T13:23:40.794Z"
   },
   {
    "duration": 2,
    "start_time": "2023-06-07T13:54:23.782Z"
   },
   {
    "duration": 26,
    "start_time": "2023-06-07T14:02:34.883Z"
   },
   {
    "duration": 18,
    "start_time": "2023-06-07T14:05:14.225Z"
   },
   {
    "duration": 4,
    "start_time": "2023-06-07T14:07:37.580Z"
   },
   {
    "duration": 5,
    "start_time": "2023-06-07T14:08:39.039Z"
   },
   {
    "duration": 17,
    "start_time": "2023-06-07T14:11:42.334Z"
   },
   {
    "duration": 15,
    "start_time": "2023-06-07T14:14:01.244Z"
   },
   {
    "duration": 6,
    "start_time": "2023-06-07T14:15:12.857Z"
   },
   {
    "duration": 8,
    "start_time": "2023-06-07T14:15:54.347Z"
   },
   {
    "duration": 84,
    "start_time": "2023-06-07T17:57:33.577Z"
   },
   {
    "duration": 158,
    "start_time": "2023-06-07T18:00:53.846Z"
   },
   {
    "duration": 512,
    "start_time": "2023-06-07T20:12:05.652Z"
   },
   {
    "duration": 21,
    "start_time": "2023-06-07T20:12:06.166Z"
   },
   {
    "duration": 36,
    "start_time": "2023-06-07T20:12:06.189Z"
   },
   {
    "duration": 61,
    "start_time": "2023-06-07T20:12:06.228Z"
   },
   {
    "duration": 97,
    "start_time": "2023-06-07T20:12:06.291Z"
   },
   {
    "duration": 20,
    "start_time": "2023-06-07T20:12:06.390Z"
   },
   {
    "duration": 79,
    "start_time": "2023-06-07T20:12:06.412Z"
   },
   {
    "duration": 56,
    "start_time": "2023-06-07T20:12:06.494Z"
   },
   {
    "duration": 86,
    "start_time": "2023-06-07T20:12:06.551Z"
   },
   {
    "duration": 89,
    "start_time": "2023-06-07T20:12:06.641Z"
   },
   {
    "duration": 103,
    "start_time": "2023-06-07T20:12:06.731Z"
   },
   {
    "duration": 49,
    "start_time": "2023-06-07T20:12:06.835Z"
   },
   {
    "duration": 44,
    "start_time": "2023-06-07T20:12:06.886Z"
   },
   {
    "duration": 52,
    "start_time": "2023-06-07T20:12:06.932Z"
   },
   {
    "duration": 67,
    "start_time": "2023-06-07T20:12:06.986Z"
   },
   {
    "duration": 40,
    "start_time": "2023-06-07T20:12:07.055Z"
   },
   {
    "duration": 44,
    "start_time": "2023-06-07T20:12:07.097Z"
   },
   {
    "duration": 57,
    "start_time": "2023-06-07T20:12:07.143Z"
   },
   {
    "duration": 66,
    "start_time": "2023-06-07T20:12:07.203Z"
   },
   {
    "duration": 15,
    "start_time": "2023-06-07T20:12:07.270Z"
   },
   {
    "duration": 84,
    "start_time": "2023-06-07T20:12:07.287Z"
   },
   {
    "duration": 57,
    "start_time": "2023-06-07T20:12:07.373Z"
   },
   {
    "duration": 61,
    "start_time": "2023-06-07T20:12:07.432Z"
   },
   {
    "duration": 28,
    "start_time": "2023-06-07T20:12:07.495Z"
   },
   {
    "duration": 51,
    "start_time": "2023-06-07T20:12:07.525Z"
   },
   {
    "duration": 82,
    "start_time": "2023-06-07T20:12:07.578Z"
   },
   {
    "duration": 63,
    "start_time": "2023-06-07T20:12:07.662Z"
   },
   {
    "duration": 38,
    "start_time": "2023-06-07T20:12:07.729Z"
   },
   {
    "duration": 34,
    "start_time": "2023-06-07T20:12:07.769Z"
   },
   {
    "duration": 40,
    "start_time": "2023-06-07T20:12:07.805Z"
   },
   {
    "duration": 28,
    "start_time": "2023-06-07T20:12:07.847Z"
   },
   {
    "duration": 27,
    "start_time": "2023-06-07T20:12:07.877Z"
   },
   {
    "duration": 20,
    "start_time": "2023-06-07T20:12:07.905Z"
   },
   {
    "duration": 78,
    "start_time": "2023-06-07T20:12:07.927Z"
   },
   {
    "duration": 77,
    "start_time": "2023-06-07T20:12:08.007Z"
   },
   {
    "duration": 67,
    "start_time": "2023-06-07T20:12:08.085Z"
   },
   {
    "duration": 44,
    "start_time": "2023-06-07T20:12:08.154Z"
   },
   {
    "duration": 45,
    "start_time": "2023-06-07T20:12:08.200Z"
   },
   {
    "duration": 67,
    "start_time": "2023-06-07T20:12:08.247Z"
   },
   {
    "duration": 17,
    "start_time": "2023-06-07T20:12:08.316Z"
   },
   {
    "duration": 42,
    "start_time": "2023-06-07T20:12:08.335Z"
   },
   {
    "duration": 74,
    "start_time": "2023-06-07T20:12:08.379Z"
   },
   {
    "duration": 37,
    "start_time": "2023-06-07T20:12:08.456Z"
   },
   {
    "duration": 47,
    "start_time": "2023-06-08T10:55:02.619Z"
   },
   {
    "duration": 6,
    "start_time": "2023-06-08T10:55:26.126Z"
   },
   {
    "duration": 497,
    "start_time": "2023-06-08T10:55:32.634Z"
   },
   {
    "duration": 23,
    "start_time": "2023-06-08T10:55:33.132Z"
   },
   {
    "duration": 15,
    "start_time": "2023-06-08T10:55:33.156Z"
   },
   {
    "duration": 11,
    "start_time": "2023-06-08T10:55:33.174Z"
   },
   {
    "duration": 31,
    "start_time": "2023-06-08T10:55:33.186Z"
   },
   {
    "duration": 3,
    "start_time": "2023-06-08T10:55:33.219Z"
   },
   {
    "duration": 11,
    "start_time": "2023-06-08T10:55:33.223Z"
   },
   {
    "duration": 4,
    "start_time": "2023-06-08T10:55:33.236Z"
   },
   {
    "duration": 34,
    "start_time": "2023-06-08T10:55:33.241Z"
   },
   {
    "duration": 5,
    "start_time": "2023-06-08T10:55:33.277Z"
   },
   {
    "duration": 34,
    "start_time": "2023-06-08T10:55:33.284Z"
   },
   {
    "duration": 10,
    "start_time": "2023-06-08T10:55:33.319Z"
   },
   {
    "duration": 2,
    "start_time": "2023-06-08T10:55:33.331Z"
   },
   {
    "duration": 19,
    "start_time": "2023-06-08T10:55:33.335Z"
   },
   {
    "duration": 20,
    "start_time": "2023-06-08T10:55:33.374Z"
   },
   {
    "duration": 17,
    "start_time": "2023-06-08T10:55:33.395Z"
   },
   {
    "duration": 3,
    "start_time": "2023-06-08T10:55:33.413Z"
   },
   {
    "duration": 13,
    "start_time": "2023-06-08T10:55:33.418Z"
   },
   {
    "duration": 7,
    "start_time": "2023-06-08T10:55:33.432Z"
   },
   {
    "duration": 7,
    "start_time": "2023-06-08T10:55:33.441Z"
   },
   {
    "duration": 28,
    "start_time": "2023-06-08T10:55:33.450Z"
   },
   {
    "duration": 15,
    "start_time": "2023-06-08T10:55:33.479Z"
   },
   {
    "duration": 21,
    "start_time": "2023-06-08T10:55:33.495Z"
   },
   {
    "duration": 7,
    "start_time": "2023-06-08T10:55:33.517Z"
   },
   {
    "duration": 5,
    "start_time": "2023-06-08T10:55:33.526Z"
   },
   {
    "duration": 27,
    "start_time": "2023-06-08T10:55:33.532Z"
   },
   {
    "duration": 20,
    "start_time": "2023-06-08T10:55:33.561Z"
   },
   {
    "duration": 16,
    "start_time": "2023-06-08T10:55:33.584Z"
   },
   {
    "duration": 7,
    "start_time": "2023-06-08T10:55:33.601Z"
   },
   {
    "duration": 21,
    "start_time": "2023-06-08T10:55:33.610Z"
   },
   {
    "duration": 11,
    "start_time": "2023-06-08T10:55:33.633Z"
   },
   {
    "duration": 41,
    "start_time": "2023-06-08T10:55:33.645Z"
   },
   {
    "duration": 6,
    "start_time": "2023-06-08T10:55:33.687Z"
   },
   {
    "duration": 30,
    "start_time": "2023-06-08T10:55:33.694Z"
   },
   {
    "duration": 13,
    "start_time": "2023-06-08T10:55:33.725Z"
   },
   {
    "duration": 17,
    "start_time": "2023-06-08T10:55:33.739Z"
   },
   {
    "duration": 19,
    "start_time": "2023-06-08T10:55:33.757Z"
   },
   {
    "duration": 26,
    "start_time": "2023-06-08T10:55:33.777Z"
   },
   {
    "duration": 12,
    "start_time": "2023-06-08T10:55:33.805Z"
   },
   {
    "duration": 11,
    "start_time": "2023-06-08T10:55:33.818Z"
   },
   {
    "duration": 4,
    "start_time": "2023-06-08T10:55:33.830Z"
   },
   {
    "duration": 12,
    "start_time": "2023-06-08T10:55:33.836Z"
   },
   {
    "duration": 6,
    "start_time": "2023-06-08T10:55:33.875Z"
   },
   {
    "duration": 34,
    "start_time": "2023-06-08T10:55:53.049Z"
   },
   {
    "duration": 16,
    "start_time": "2023-06-08T10:56:26.506Z"
   },
   {
    "duration": 46,
    "start_time": "2023-06-08T12:44:24.558Z"
   },
   {
    "duration": 71,
    "start_time": "2023-06-08T13:01:43.434Z"
   },
   {
    "duration": 9,
    "start_time": "2023-06-08T13:02:13.356Z"
   },
   {
    "duration": 12,
    "start_time": "2023-06-08T13:02:42.257Z"
   },
   {
    "duration": 14,
    "start_time": "2023-06-08T13:03:17.467Z"
   },
   {
    "duration": 13,
    "start_time": "2023-06-08T13:06:07.782Z"
   },
   {
    "duration": 12,
    "start_time": "2023-06-08T13:06:41.197Z"
   },
   {
    "duration": 12,
    "start_time": "2023-06-08T13:07:30.482Z"
   },
   {
    "duration": 23,
    "start_time": "2023-06-08T13:16:38.422Z"
   },
   {
    "duration": 15,
    "start_time": "2023-06-08T13:20:34.076Z"
   },
   {
    "duration": 15,
    "start_time": "2023-06-08T13:20:52.168Z"
   },
   {
    "duration": 16,
    "start_time": "2023-06-08T13:21:13.928Z"
   },
   {
    "duration": 16,
    "start_time": "2023-06-08T13:25:52.527Z"
   },
   {
    "duration": 16,
    "start_time": "2023-06-08T13:25:56.934Z"
   },
   {
    "duration": 14,
    "start_time": "2023-06-08T13:26:24.843Z"
   },
   {
    "duration": 16,
    "start_time": "2023-06-08T13:26:29.002Z"
   },
   {
    "duration": 13,
    "start_time": "2023-06-08T13:27:47.489Z"
   },
   {
    "duration": 20,
    "start_time": "2023-06-08T13:27:54.029Z"
   },
   {
    "duration": 13,
    "start_time": "2023-06-08T13:28:06.990Z"
   },
   {
    "duration": 16,
    "start_time": "2023-06-08T13:28:09.692Z"
   },
   {
    "duration": 12,
    "start_time": "2023-06-08T13:28:17.544Z"
   },
   {
    "duration": 15,
    "start_time": "2023-06-08T13:28:20.309Z"
   },
   {
    "duration": 12,
    "start_time": "2023-06-08T13:29:26.909Z"
   },
   {
    "duration": 17,
    "start_time": "2023-06-08T13:29:29.827Z"
   },
   {
    "duration": 12,
    "start_time": "2023-06-08T13:40:13.698Z"
   },
   {
    "duration": 15,
    "start_time": "2023-06-08T13:40:17.280Z"
   },
   {
    "duration": 12,
    "start_time": "2023-06-08T13:40:23.226Z"
   },
   {
    "duration": 15,
    "start_time": "2023-06-08T13:40:25.719Z"
   },
   {
    "duration": 12,
    "start_time": "2023-06-08T13:40:35.719Z"
   },
   {
    "duration": 15,
    "start_time": "2023-06-08T13:40:37.936Z"
   },
   {
    "duration": 11,
    "start_time": "2023-06-08T13:40:50.031Z"
   },
   {
    "duration": 16,
    "start_time": "2023-06-08T13:40:52.330Z"
   },
   {
    "duration": 14,
    "start_time": "2023-06-08T13:41:03.940Z"
   },
   {
    "duration": 17,
    "start_time": "2023-06-08T13:41:06.331Z"
   },
   {
    "duration": 12,
    "start_time": "2023-06-08T13:41:30.189Z"
   },
   {
    "duration": 15,
    "start_time": "2023-06-08T13:41:32.812Z"
   },
   {
    "duration": 12,
    "start_time": "2023-06-08T13:41:55.254Z"
   },
   {
    "duration": 17,
    "start_time": "2023-06-08T13:41:57.815Z"
   },
   {
    "duration": 13,
    "start_time": "2023-06-08T13:42:25.183Z"
   },
   {
    "duration": 17,
    "start_time": "2023-06-08T13:42:27.253Z"
   },
   {
    "duration": 13,
    "start_time": "2023-06-08T13:42:37.903Z"
   },
   {
    "duration": 15,
    "start_time": "2023-06-08T13:42:40.188Z"
   },
   {
    "duration": 12,
    "start_time": "2023-06-08T13:43:04.729Z"
   },
   {
    "duration": 16,
    "start_time": "2023-06-08T13:43:07.201Z"
   },
   {
    "duration": 10,
    "start_time": "2023-06-08T13:58:43.783Z"
   },
   {
    "duration": 4,
    "start_time": "2023-06-08T14:15:59.726Z"
   },
   {
    "duration": 8,
    "start_time": "2023-06-08T14:16:03.710Z"
   },
   {
    "duration": 19,
    "start_time": "2023-06-08T14:16:11.781Z"
   },
   {
    "duration": 21,
    "start_time": "2023-06-08T14:17:10.756Z"
   },
   {
    "duration": 515,
    "start_time": "2023-06-08T14:17:35.578Z"
   },
   {
    "duration": 22,
    "start_time": "2023-06-08T14:17:36.095Z"
   },
   {
    "duration": 16,
    "start_time": "2023-06-08T14:17:36.119Z"
   },
   {
    "duration": 9,
    "start_time": "2023-06-08T14:17:36.137Z"
   },
   {
    "duration": 46,
    "start_time": "2023-06-08T14:17:36.148Z"
   },
   {
    "duration": 3,
    "start_time": "2023-06-08T14:17:36.195Z"
   },
   {
    "duration": 17,
    "start_time": "2023-06-08T14:17:36.200Z"
   },
   {
    "duration": 6,
    "start_time": "2023-06-08T14:17:36.219Z"
   },
   {
    "duration": 8,
    "start_time": "2023-06-08T14:17:36.227Z"
   },
   {
    "duration": 11,
    "start_time": "2023-06-08T14:17:36.237Z"
   },
   {
    "duration": 55,
    "start_time": "2023-06-08T14:17:36.249Z"
   },
   {
    "duration": 9,
    "start_time": "2023-06-08T14:17:36.305Z"
   },
   {
    "duration": 9,
    "start_time": "2023-06-08T14:17:36.316Z"
   },
   {
    "duration": 56,
    "start_time": "2023-06-08T14:17:36.327Z"
   },
   {
    "duration": 21,
    "start_time": "2023-06-08T14:17:36.385Z"
   },
   {
    "duration": 16,
    "start_time": "2023-06-08T14:17:36.408Z"
   },
   {
    "duration": 4,
    "start_time": "2023-06-08T14:17:36.426Z"
   },
   {
    "duration": 18,
    "start_time": "2023-06-08T14:17:36.432Z"
   },
   {
    "duration": 24,
    "start_time": "2023-06-08T14:17:36.452Z"
   },
   {
    "duration": 3,
    "start_time": "2023-06-08T14:17:36.477Z"
   },
   {
    "duration": 12,
    "start_time": "2023-06-08T14:17:36.481Z"
   },
   {
    "duration": 4,
    "start_time": "2023-06-08T14:17:36.495Z"
   },
   {
    "duration": 20,
    "start_time": "2023-06-08T14:17:36.501Z"
   },
   {
    "duration": 6,
    "start_time": "2023-06-08T14:17:36.523Z"
   },
   {
    "duration": 4,
    "start_time": "2023-06-08T14:17:36.530Z"
   },
   {
    "duration": 61,
    "start_time": "2023-06-08T14:17:36.536Z"
   },
   {
    "duration": 13,
    "start_time": "2023-06-08T14:17:36.599Z"
   },
   {
    "duration": 14,
    "start_time": "2023-06-08T14:17:36.617Z"
   },
   {
    "duration": 7,
    "start_time": "2023-06-08T14:17:36.634Z"
   },
   {
    "duration": 45,
    "start_time": "2023-06-08T14:17:36.643Z"
   },
   {
    "duration": 11,
    "start_time": "2023-06-08T14:17:36.690Z"
   },
   {
    "duration": 15,
    "start_time": "2023-06-08T14:17:36.703Z"
   },
   {
    "duration": 6,
    "start_time": "2023-06-08T14:17:36.719Z"
   },
   {
    "duration": 55,
    "start_time": "2023-06-08T14:17:36.727Z"
   },
   {
    "duration": 12,
    "start_time": "2023-06-08T14:17:36.784Z"
   },
   {
    "duration": 12,
    "start_time": "2023-06-08T14:17:36.797Z"
   },
   {
    "duration": 17,
    "start_time": "2023-06-08T14:17:36.810Z"
   },
   {
    "duration": 3,
    "start_time": "2023-06-08T14:17:36.829Z"
   },
   {
    "duration": 9,
    "start_time": "2023-06-08T14:17:36.833Z"
   },
   {
    "duration": 24,
    "start_time": "2023-06-08T14:17:36.875Z"
   },
   {
    "duration": 43,
    "start_time": "2023-06-08T14:17:36.901Z"
   },
   {
    "duration": 7,
    "start_time": "2023-06-08T14:17:36.946Z"
   },
   {
    "duration": 40,
    "start_time": "2023-06-08T14:17:36.954Z"
   },
   {
    "duration": 14,
    "start_time": "2023-06-08T14:17:36.995Z"
   },
   {
    "duration": 14,
    "start_time": "2023-06-08T14:17:37.012Z"
   },
   {
    "duration": 8,
    "start_time": "2023-06-08T14:17:37.028Z"
   },
   {
    "duration": 37,
    "start_time": "2023-06-08T14:17:37.038Z"
   },
   {
    "duration": 8,
    "start_time": "2023-06-08T14:17:37.077Z"
   },
   {
    "duration": 12,
    "start_time": "2023-06-08T14:18:09.197Z"
   },
   {
    "duration": 13,
    "start_time": "2023-06-08T14:18:38.283Z"
   },
   {
    "duration": 3,
    "start_time": "2023-06-08T14:19:26.133Z"
   },
   {
    "duration": 7,
    "start_time": "2023-06-08T14:19:29.111Z"
   },
   {
    "duration": 13,
    "start_time": "2023-06-08T14:19:31.729Z"
   },
   {
    "duration": 14,
    "start_time": "2023-06-08T14:19:34.764Z"
   },
   {
    "duration": 9,
    "start_time": "2023-06-08T14:24:06.330Z"
   },
   {
    "duration": 14,
    "start_time": "2023-06-08T14:24:11.024Z"
   },
   {
    "duration": 13,
    "start_time": "2023-06-08T14:24:15.210Z"
   },
   {
    "duration": 14,
    "start_time": "2023-06-08T14:25:35.119Z"
   },
   {
    "duration": 17,
    "start_time": "2023-06-08T14:25:37.525Z"
   },
   {
    "duration": 21,
    "start_time": "2023-06-08T15:05:43.109Z"
   },
   {
    "duration": 13,
    "start_time": "2023-06-08T15:05:46.922Z"
   },
   {
    "duration": 18,
    "start_time": "2023-06-08T15:06:21.110Z"
   },
   {
    "duration": 12,
    "start_time": "2023-06-08T15:06:24.308Z"
   },
   {
    "duration": 68,
    "start_time": "2023-06-08T15:08:23.585Z"
   },
   {
    "duration": 14,
    "start_time": "2023-06-08T15:08:40.444Z"
   },
   {
    "duration": 5,
    "start_time": "2023-06-08T15:08:45.690Z"
   },
   {
    "duration": 14,
    "start_time": "2023-06-08T15:09:08.435Z"
   },
   {
    "duration": 18,
    "start_time": "2023-06-08T15:11:08.605Z"
   },
   {
    "duration": 12,
    "start_time": "2023-06-08T15:11:12.019Z"
   },
   {
    "duration": 11,
    "start_time": "2023-06-08T15:11:20.247Z"
   },
   {
    "duration": 5,
    "start_time": "2023-06-08T15:11:23.429Z"
   },
   {
    "duration": 13,
    "start_time": "2023-06-08T15:11:33.534Z"
   },
   {
    "duration": 10,
    "start_time": "2023-06-08T15:12:12.445Z"
   },
   {
    "duration": 5,
    "start_time": "2023-06-08T15:12:15.258Z"
   },
   {
    "duration": 21,
    "start_time": "2023-06-08T15:12:28.726Z"
   },
   {
    "duration": 13,
    "start_time": "2023-06-08T15:12:34.266Z"
   },
   {
    "duration": 12,
    "start_time": "2023-06-08T15:12:38.441Z"
   },
   {
    "duration": 4,
    "start_time": "2023-06-08T15:12:41.293Z"
   },
   {
    "duration": 13,
    "start_time": "2023-06-08T15:12:50.544Z"
   },
   {
    "duration": 7,
    "start_time": "2023-06-08T15:12:58.969Z"
   },
   {
    "duration": 16,
    "start_time": "2023-06-08T15:24:20.270Z"
   },
   {
    "duration": 13,
    "start_time": "2023-06-08T15:24:23.655Z"
   },
   {
    "duration": 3,
    "start_time": "2023-06-08T15:26:29.500Z"
   },
   {
    "duration": 9,
    "start_time": "2023-06-08T15:26:32.583Z"
   },
   {
    "duration": 13,
    "start_time": "2023-06-08T15:27:21.660Z"
   },
   {
    "duration": 13,
    "start_time": "2023-06-08T15:27:23.876Z"
   },
   {
    "duration": 10,
    "start_time": "2023-06-08T15:28:56.850Z"
   },
   {
    "duration": 5,
    "start_time": "2023-06-08T15:29:00.288Z"
   },
   {
    "duration": 13,
    "start_time": "2023-06-08T15:29:14.833Z"
   },
   {
    "duration": 9,
    "start_time": "2023-06-08T15:29:27.366Z"
   },
   {
    "duration": 18,
    "start_time": "2023-06-08T15:34:52.996Z"
   },
   {
    "duration": 13,
    "start_time": "2023-06-08T15:34:56.305Z"
   },
   {
    "duration": 11,
    "start_time": "2023-06-08T15:35:22.059Z"
   },
   {
    "duration": 4,
    "start_time": "2023-06-08T15:35:25.150Z"
   },
   {
    "duration": 13,
    "start_time": "2023-06-08T15:35:29.143Z"
   },
   {
    "duration": 20,
    "start_time": "2023-06-08T15:38:26.312Z"
   },
   {
    "duration": 12,
    "start_time": "2023-06-08T15:38:29.061Z"
   },
   {
    "duration": 11,
    "start_time": "2023-06-08T15:38:34.804Z"
   },
   {
    "duration": 4,
    "start_time": "2023-06-08T15:38:37.681Z"
   },
   {
    "duration": 14,
    "start_time": "2023-06-08T15:38:41.349Z"
   },
   {
    "duration": 21,
    "start_time": "2023-06-08T15:39:37.120Z"
   },
   {
    "duration": 12,
    "start_time": "2023-06-08T15:39:40.175Z"
   },
   {
    "duration": 9,
    "start_time": "2023-06-08T15:40:42.656Z"
   },
   {
    "duration": 5,
    "start_time": "2023-06-08T15:40:46.350Z"
   },
   {
    "duration": 13,
    "start_time": "2023-06-08T15:40:51.631Z"
   },
   {
    "duration": 6,
    "start_time": "2023-06-08T15:40:57.108Z"
   },
   {
    "duration": 8,
    "start_time": "2023-06-08T16:10:29.744Z"
   },
   {
    "duration": 470,
    "start_time": "2023-06-08T16:10:44.700Z"
   },
   {
    "duration": 23,
    "start_time": "2023-06-08T16:10:45.172Z"
   },
   {
    "duration": 26,
    "start_time": "2023-06-08T16:10:45.198Z"
   },
   {
    "duration": 10,
    "start_time": "2023-06-08T16:10:45.226Z"
   },
   {
    "duration": 40,
    "start_time": "2023-06-08T16:10:45.238Z"
   },
   {
    "duration": 4,
    "start_time": "2023-06-08T16:10:45.279Z"
   },
   {
    "duration": 11,
    "start_time": "2023-06-08T16:10:45.285Z"
   },
   {
    "duration": 6,
    "start_time": "2023-06-08T16:10:45.298Z"
   },
   {
    "duration": 4,
    "start_time": "2023-06-08T16:10:45.306Z"
   },
   {
    "duration": 6,
    "start_time": "2023-06-08T16:10:45.313Z"
   },
   {
    "duration": 43,
    "start_time": "2023-06-08T16:10:45.320Z"
   },
   {
    "duration": 33,
    "start_time": "2023-06-08T16:10:45.364Z"
   },
   {
    "duration": 9,
    "start_time": "2023-06-08T16:10:45.399Z"
   },
   {
    "duration": 5,
    "start_time": "2023-06-08T16:10:45.410Z"
   },
   {
    "duration": 12,
    "start_time": "2023-06-08T16:10:45.417Z"
   },
   {
    "duration": 21,
    "start_time": "2023-06-08T16:10:45.431Z"
   },
   {
    "duration": 33,
    "start_time": "2023-06-08T16:10:45.453Z"
   },
   {
    "duration": 3,
    "start_time": "2023-06-08T16:10:45.488Z"
   },
   {
    "duration": 16,
    "start_time": "2023-06-08T16:10:45.493Z"
   },
   {
    "duration": 11,
    "start_time": "2023-06-08T16:10:45.511Z"
   },
   {
    "duration": 3,
    "start_time": "2023-06-08T16:10:45.524Z"
   },
   {
    "duration": 15,
    "start_time": "2023-06-08T16:10:45.529Z"
   },
   {
    "duration": 7,
    "start_time": "2023-06-08T16:10:45.546Z"
   },
   {
    "duration": 29,
    "start_time": "2023-06-08T16:10:45.554Z"
   },
   {
    "duration": 7,
    "start_time": "2023-06-08T16:10:45.585Z"
   },
   {
    "duration": 4,
    "start_time": "2023-06-08T16:10:45.594Z"
   },
   {
    "duration": 27,
    "start_time": "2023-06-08T16:10:45.599Z"
   },
   {
    "duration": 40,
    "start_time": "2023-06-08T16:10:45.629Z"
   },
   {
    "duration": 15,
    "start_time": "2023-06-08T16:10:45.671Z"
   },
   {
    "duration": 6,
    "start_time": "2023-06-08T16:10:45.687Z"
   },
   {
    "duration": 22,
    "start_time": "2023-06-08T16:10:45.694Z"
   },
   {
    "duration": 11,
    "start_time": "2023-06-08T16:10:45.717Z"
   },
   {
    "duration": 19,
    "start_time": "2023-06-08T16:10:45.730Z"
   },
   {
    "duration": 28,
    "start_time": "2023-06-08T16:10:45.751Z"
   },
   {
    "duration": 26,
    "start_time": "2023-06-08T16:10:45.780Z"
   },
   {
    "duration": 13,
    "start_time": "2023-06-08T16:10:45.808Z"
   },
   {
    "duration": 13,
    "start_time": "2023-06-08T16:10:45.823Z"
   },
   {
    "duration": 41,
    "start_time": "2023-06-08T16:10:45.838Z"
   },
   {
    "duration": 3,
    "start_time": "2023-06-08T16:10:45.881Z"
   },
   {
    "duration": 11,
    "start_time": "2023-06-08T16:10:45.885Z"
   },
   {
    "duration": 14,
    "start_time": "2023-06-08T16:10:45.897Z"
   },
   {
    "duration": 14,
    "start_time": "2023-06-08T16:10:45.912Z"
   },
   {
    "duration": 14,
    "start_time": "2023-06-08T16:10:45.928Z"
   },
   {
    "duration": 6,
    "start_time": "2023-06-08T16:10:45.944Z"
   },
   {
    "duration": 21,
    "start_time": "2023-06-08T16:10:45.975Z"
   },
   {
    "duration": 21,
    "start_time": "2023-06-08T16:10:45.998Z"
   },
   {
    "duration": 13,
    "start_time": "2023-06-08T16:10:46.020Z"
   },
   {
    "duration": 6,
    "start_time": "2023-06-08T16:10:46.034Z"
   },
   {
    "duration": 38,
    "start_time": "2023-06-08T16:10:46.042Z"
   },
   {
    "duration": 7,
    "start_time": "2023-06-08T16:10:46.082Z"
   },
   {
    "duration": 67,
    "start_time": "2023-06-08T16:20:06.413Z"
   },
   {
    "duration": 71,
    "start_time": "2023-06-08T16:26:50.753Z"
   },
   {
    "duration": 9,
    "start_time": "2023-06-08T16:26:59.709Z"
   },
   {
    "duration": 7,
    "start_time": "2023-06-08T16:27:14.299Z"
   },
   {
    "duration": 10,
    "start_time": "2023-06-08T16:27:52.703Z"
   },
   {
    "duration": 8,
    "start_time": "2023-06-08T16:28:13.377Z"
   },
   {
    "duration": 7,
    "start_time": "2023-06-08T16:28:22.103Z"
   },
   {
    "duration": 12,
    "start_time": "2023-06-08T16:29:42.196Z"
   },
   {
    "duration": 7,
    "start_time": "2023-06-08T16:30:37.295Z"
   },
   {
    "duration": 31,
    "start_time": "2023-06-08T16:34:07.133Z"
   },
   {
    "duration": 30,
    "start_time": "2023-06-08T16:34:34.754Z"
   },
   {
    "duration": 49,
    "start_time": "2023-06-08T17:03:27.070Z"
   },
   {
    "duration": 38,
    "start_time": "2023-06-08T17:07:14.446Z"
   },
   {
    "duration": 500,
    "start_time": "2023-06-08T22:52:21.659Z"
   },
   {
    "duration": 24,
    "start_time": "2023-06-08T22:52:22.161Z"
   },
   {
    "duration": 16,
    "start_time": "2023-06-08T22:52:22.186Z"
   },
   {
    "duration": 11,
    "start_time": "2023-06-08T22:52:22.204Z"
   },
   {
    "duration": 55,
    "start_time": "2023-06-08T22:52:22.217Z"
   },
   {
    "duration": 4,
    "start_time": "2023-06-08T22:52:22.273Z"
   },
   {
    "duration": 18,
    "start_time": "2023-06-08T22:52:22.278Z"
   },
   {
    "duration": 47,
    "start_time": "2023-06-08T22:52:22.297Z"
   },
   {
    "duration": 10,
    "start_time": "2023-06-08T22:52:22.347Z"
   },
   {
    "duration": 15,
    "start_time": "2023-06-08T22:52:22.360Z"
   },
   {
    "duration": 17,
    "start_time": "2023-06-08T22:52:22.376Z"
   },
   {
    "duration": 33,
    "start_time": "2023-06-08T22:52:22.395Z"
   },
   {
    "duration": 9,
    "start_time": "2023-06-08T22:52:22.430Z"
   },
   {
    "duration": 16,
    "start_time": "2023-06-08T22:52:22.441Z"
   },
   {
    "duration": 33,
    "start_time": "2023-06-08T22:52:22.459Z"
   },
   {
    "duration": 33,
    "start_time": "2023-06-08T22:52:22.493Z"
   },
   {
    "duration": 27,
    "start_time": "2023-06-08T22:52:22.528Z"
   },
   {
    "duration": 3,
    "start_time": "2023-06-08T22:52:22.557Z"
   },
   {
    "duration": 56,
    "start_time": "2023-06-08T22:52:22.562Z"
   },
   {
    "duration": 41,
    "start_time": "2023-06-08T22:52:22.620Z"
   },
   {
    "duration": 12,
    "start_time": "2023-06-08T22:52:22.662Z"
   },
   {
    "duration": 24,
    "start_time": "2023-06-08T22:52:22.676Z"
   },
   {
    "duration": 6,
    "start_time": "2023-06-08T22:52:22.702Z"
   },
   {
    "duration": 17,
    "start_time": "2023-06-08T22:52:22.710Z"
   },
   {
    "duration": 8,
    "start_time": "2023-06-08T22:52:22.729Z"
   },
   {
    "duration": 22,
    "start_time": "2023-06-08T22:52:22.739Z"
   },
   {
    "duration": 36,
    "start_time": "2023-06-08T22:52:22.763Z"
   },
   {
    "duration": 13,
    "start_time": "2023-06-08T22:52:22.804Z"
   },
   {
    "duration": 17,
    "start_time": "2023-06-08T22:52:22.819Z"
   },
   {
    "duration": 17,
    "start_time": "2023-06-08T22:52:22.838Z"
   },
   {
    "duration": 30,
    "start_time": "2023-06-08T22:52:22.857Z"
   },
   {
    "duration": 30,
    "start_time": "2023-06-08T22:52:22.889Z"
   },
   {
    "duration": 18,
    "start_time": "2023-06-08T22:52:22.921Z"
   },
   {
    "duration": 10,
    "start_time": "2023-06-08T22:52:22.941Z"
   },
   {
    "duration": 33,
    "start_time": "2023-06-08T22:52:22.953Z"
   },
   {
    "duration": 19,
    "start_time": "2023-06-08T22:52:22.988Z"
   },
   {
    "duration": 17,
    "start_time": "2023-06-08T22:52:23.009Z"
   },
   {
    "duration": 31,
    "start_time": "2023-06-08T22:52:23.028Z"
   },
   {
    "duration": 4,
    "start_time": "2023-06-08T22:52:23.060Z"
   },
   {
    "duration": 15,
    "start_time": "2023-06-08T22:52:23.065Z"
   },
   {
    "duration": 13,
    "start_time": "2023-06-08T22:52:23.082Z"
   },
   {
    "duration": 31,
    "start_time": "2023-06-08T22:52:23.097Z"
   },
   {
    "duration": 24,
    "start_time": "2023-06-08T22:52:23.130Z"
   },
   {
    "duration": 7,
    "start_time": "2023-06-08T22:52:23.156Z"
   },
   {
    "duration": 51,
    "start_time": "2023-06-08T22:52:23.166Z"
   },
   {
    "duration": 20,
    "start_time": "2023-06-08T22:52:23.219Z"
   },
   {
    "duration": 39,
    "start_time": "2023-06-08T22:52:23.241Z"
   },
   {
    "duration": 4,
    "start_time": "2023-06-08T22:52:23.282Z"
   },
   {
    "duration": 22,
    "start_time": "2023-06-08T22:52:23.288Z"
   },
   {
    "duration": 9,
    "start_time": "2023-06-08T22:52:23.312Z"
   }
  ],
  "colab": {
   "name": "dpp_template_part2.ipynb",
   "provenance": []
  },
  "kernelspec": {
   "display_name": "Python 3 (ipykernel)",
   "language": "python",
   "name": "python3"
  },
  "language_info": {
   "codemirror_mode": {
    "name": "ipython",
    "version": 3
   },
   "file_extension": ".py",
   "mimetype": "text/x-python",
   "name": "python",
   "nbconvert_exporter": "python",
   "pygments_lexer": "ipython3",
   "version": "3.10.9"
  },
  "toc": {
   "base_numbering": 1,
   "nav_menu": {},
   "number_sections": true,
   "sideBar": true,
   "skip_h1_title": true,
   "title_cell": "Table of Contents",
   "title_sidebar": "Contents",
   "toc_cell": false,
   "toc_position": {},
   "toc_section_display": true,
   "toc_window_display": true
  }
 },
 "nbformat": 4,
 "nbformat_minor": 5
}
